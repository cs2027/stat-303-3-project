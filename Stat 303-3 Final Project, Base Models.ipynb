{
 "cells": [
  {
   "cell_type": "code",
   "execution_count": 1,
   "id": "60f6ba3b",
   "metadata": {},
   "outputs": [],
   "source": [
    "import pandas as pd\n",
    "import numpy as np\n",
    "import seaborn as sns\n",
    "import matplotlib.pyplot as plt\n",
    "from sklearn.metrics import mean_squared_error\n",
    "from sklearn.model_selection import cross_val_score,train_test_split, KFold, GridSearchCV, ParameterGrid, StratifiedKFold\n",
    "from sklearn.metrics import mean_squared_error,r2_score,roc_curve,auc,precision_recall_curve\n",
    "from sklearn.model_selection import KFold, StratifiedKFold\n",
    "from sklearn.tree import DecisionTreeRegressor,DecisionTreeClassifier\n",
    "from sklearn.model_selection import GridSearchCV, ParameterGrid\n",
    "from sklearn.ensemble import GradientBoostingRegressor,GradientBoostingClassifier, BaggingRegressor,BaggingClassifier,RandomForestRegressor,RandomForestClassifier,AdaBoostRegressor,AdaBoostClassifier\n",
    "from sklearn.linear_model import LinearRegression,LogisticRegression\n",
    "from sklearn.neighbors import KNeighborsRegressor\n",
    "from sklearn.tree import export_graphviz\n",
    "from six import StringIO\n",
    "from IPython.display import Image\n",
    "import pydotplus\n",
    "import time as time\n",
    "import itertools as it\n",
    "\n",
    "import statsmodels.formula.api as sm\n",
    "from collections import OrderedDict\n",
    "import pickle"
   ]
  },
  {
   "cell_type": "code",
   "execution_count": 2,
   "id": "0168df29",
   "metadata": {},
   "outputs": [],
   "source": [
    "import warnings\n",
    "warnings.filterwarnings('ignore')\n",
    "warnings.simplefilter('ignore')"
   ]
  },
  {
   "cell_type": "markdown",
   "id": "75641171",
   "metadata": {},
   "source": [
    "## Note: Summary of our (base) model performances are at the bottom of this file. {-}\n",
    "\n",
    "In summary, we found that that more complex ensemble methods (in particular, bagged decision trees & random forests) performed best our of our initial base models, which is not surprising. \n",
    "\n",
    "In the future, we will continue to explore more complex models discussed in class this quarter, as well as tune hyperparameters more closely for our base models that we've found have worked well so far (namely, bagged decision trees & random forests).\n",
    "\n",
    "Also, as a refresher, we've also attached a PDF of our project proposal if the grader would like to look at this as well to jog their memory. In short, we're predicting a binary classification response: that is, satisfied (1) vs. neutral/dissatisfied (0) airline customers. See [here](https://www.kaggle.com/datasets/teejmahal20/airline-passenger-satisfaction) for a link to the dataset as well, if desired."
   ]
  },
  {
   "cell_type": "markdown",
   "id": "8d776f80",
   "metadata": {},
   "source": [
    "## Data Prep {-}"
   ]
  },
  {
   "cell_type": "code",
   "execution_count": 3,
   "id": "e9da09d5",
   "metadata": {},
   "outputs": [],
   "source": [
    "train = pd.read_csv(\"data/train.csv\")\n",
    "test = pd.read_csv(\"data/test.csv\")"
   ]
  },
  {
   "cell_type": "code",
   "execution_count": 4,
   "id": "c92438ca",
   "metadata": {},
   "outputs": [],
   "source": [
    "train = train.rename(columns={\"On-board service\": \"Onboard_service\"})\n",
    "test = test.rename(columns={\"On-board service\": \"Onboard_service\"})"
   ]
  },
  {
   "cell_type": "code",
   "execution_count": 5,
   "id": "338b0ef8",
   "metadata": {},
   "outputs": [],
   "source": [
    "#encode satisfaciton column values to 0 for dissatisfied and 1 for satisfied\n",
    "train[\"satisfaction\"] = train[\"satisfaction\"].replace(['neutral or dissatisfied'], '0')\n",
    "train[\"satisfaction\"] = train[\"satisfaction\"].replace(['satisfied'], '1')\n",
    "\n",
    "test[\"satisfaction\"] = test[\"satisfaction\"].replace(['neutral or dissatisfied'], '0')\n",
    "test[\"satisfaction\"] = test[\"satisfaction\"].replace(['satisfied'], '1')\n",
    "\n",
    "#make dummy for categorical variables\n",
    "train_dummies = pd.get_dummies(train[[\"Gender\", \"Customer Type\", \"Type of Travel\", \"Class\"]])\n",
    "train = pd.concat([train, train_dummies], axis=1)\n",
    "train = train.drop(columns=[\"Gender\", \"Customer Type\", \"Type of Travel\", \"Class\"])\n",
    "\n",
    "test_dummies = pd.get_dummies(test[[\"Gender\", \"Customer Type\", \"Type of Travel\", \"Class\"]])\n",
    "test = pd.concat([test, test_dummies], axis=1)\n",
    "test = test.drop(columns=[\"Gender\", \"Customer Type\", \"Type of Travel\", \"Class\"])\n",
    "\n",
    "#drop na\n",
    "train = train.dropna()\n",
    "test = test.dropna()\n",
    "\n",
    "train = train.drop(columns=[\"Unnamed: 0\", \"id\"])\n",
    "test = test.drop(columns=[\"Unnamed: 0\", \"id\"])"
   ]
  },
  {
   "cell_type": "code",
   "execution_count": 6,
   "id": "bb3d0405",
   "metadata": {},
   "outputs": [],
   "source": [
    "train.columns = train.columns.str.replace(' ', '_')\n",
    "train.columns = train.columns.str.replace('/', '_')\n",
    "\n",
    "test.columns = test.columns.str.replace(' ', '_')\n",
    "test.columns = test.columns.str.replace('/', '_')\n",
    "\n",
    "test.columns = test.columns.str.replace('-', '_')\n",
    "test.columns = test.columns.str.replace('-', '_')"
   ]
  },
  {
   "cell_type": "code",
   "execution_count": 7,
   "id": "004f4ce1",
   "metadata": {},
   "outputs": [],
   "source": [
    "train[\"satisfaction\"] = train[\"satisfaction\"].astype(int)\n",
    "test[\"satisfaction\"] = test[\"satisfaction\"].astype(int)"
   ]
  },
  {
   "cell_type": "code",
   "execution_count": 8,
   "id": "63513715",
   "metadata": {},
   "outputs": [],
   "source": [
    "X = train.drop(columns=[\"satisfaction\"])\n",
    "y = train[\"satisfaction\"]\n",
    "\n",
    "Xtest = test.drop(columns=[\"satisfaction\"])\n",
    "ytest = test[\"satisfaction\"]"
   ]
  },
  {
   "cell_type": "markdown",
   "id": "fc6e9215",
   "metadata": {},
   "source": [
    "## Linear Models (303-2 Models) {-}"
   ]
  },
  {
   "cell_type": "code",
   "execution_count": 9,
   "id": "3b89dafc",
   "metadata": {},
   "outputs": [],
   "source": [
    "#Function to compute confusion matrix and prediction accuracy on test/train data\n",
    "def confusion_matrix_data(data,actual_values,model,cutoff=0.5):\n",
    "    #Predict the values using the Logit model\n",
    "    pred_values = model.predict_proba(data)[:,1]\n",
    "    # Specify the bins\n",
    "    bins=np.array([0,cutoff,1])\n",
    "    #Confusion matrix\n",
    "    cm = np.histogram2d(actual_values, pred_values, bins=bins)[0]\n",
    "    cm_df = pd.DataFrame(cm)\n",
    "    cm_df.columns = ['Predicted 0','Predicted 1']\n",
    "    cm_df = cm_df.rename(index={0: 'Actual 0',1:'Actual 1'})\n",
    "    # Calculate the accuracy\n",
    "    accuracy = 100*(cm[0,0]+cm[1,1])/cm.sum()\n",
    "    fnr = 100*(cm[1,0])/(cm[1,0]+cm[1,1])\n",
    "    precision = 100*(cm[1,1])/(cm[0,1]+cm[1,1])\n",
    "    fpr = 100*(cm[0,1])/(cm[0,0]+cm[0,1])\n",
    "    tpr = 100*(cm[1,1])/(cm[1,0]+cm[1,1])\n",
    "    print(\"Accuracy = \", accuracy)\n",
    "    print(\"Precision = \", precision)\n",
    "    print(\"FNR = \", fnr)\n",
    "    print(\"FPR = \", fpr)\n",
    "    print(\"TPR or Recall = \", tpr)\n",
    "    print(\"Confusion matrix = \\n\", cm_df)\n",
    "    return (\" \")"
   ]
  },
  {
   "cell_type": "markdown",
   "id": "0b2d92a8",
   "metadata": {},
   "source": [
    "### Forward Selection {-}"
   ]
  },
  {
   "cell_type": "code",
   "execution_count": 10,
   "id": "1dba127e",
   "metadata": {},
   "outputs": [],
   "source": [
    "#Function to compute confusion matrix and prediction accuracy on test data\n",
    "def confusion_matrix(data, actual_values, model, cutoff = 0.5):\n",
    "    #Predict the values using the Logit model\n",
    "    pred_values = model.predict(data)\n",
    "    # Specify the bins\n",
    "    bins = np.array([0, cutoff, 1])\n",
    "    # Confusion matrix\n",
    "    cm = np.histogram2d(actual_values, pred_values, bins = bins)[0]\n",
    "    cm_df = pd.DataFrame(cm)\n",
    "    cm_df.columns = ['Predicted 0','Predicted 1']\n",
    "    cm_df = cm_df.rename(index = {0: 'Actual 0', 1: 'Actual 1'})\n",
    "    # Calculate the accuracy\n",
    "    accuracy = 100 * (cm[0, 0] + cm[1, 1]) / cm.sum()\n",
    "    # Return the confusion matrix and the accuracy\n",
    "    return cm_df, accuracy"
   ]
  },
  {
   "cell_type": "code",
   "execution_count": 11,
   "id": "397330f2",
   "metadata": {},
   "outputs": [],
   "source": [
    "#Function to develop a model based on all predictors in predictor_subset\n",
    "def processSubset(predictor_subset):\n",
    "    # Fit model on feature_set and calculate R-squared\n",
    "    model = sm.logit('satisfaction ~ ' + '+'.join(predictor_subset), data = train).fit(disp=0)\n",
    "    Accuracy = confusion_matrix(train, train.satisfaction, model)[1]\n",
    "    return {\"model\": model, \"Accuracy\": Accuracy}"
   ]
  },
  {
   "cell_type": "code",
   "execution_count": 12,
   "id": "8f3b2ff6",
   "metadata": {},
   "outputs": [],
   "source": [
    "#Function to find the best predictor out of p-k predictors and add it to the model containing the k predictors\n",
    "def forward(predictors):\n",
    "    # Pull out predictors we still need to process\n",
    "    remaining_predictors = [p for p in X.columns if p not in predictors]\n",
    "    tic = time.time()\n",
    "    results = []\n",
    "    for p in remaining_predictors:\n",
    "        results.append(processSubset(predictors+[p]))\n",
    "        \n",
    "    # Wrap everything up in a nice dataframe\n",
    "    models = pd.DataFrame(results)\n",
    "    \n",
    "    # Choose the model with the highest Accuracy\n",
    "    best_model = models.loc[models['Accuracy'].argmax()]\n",
    "    toc = time.time()\n",
    "    print(\"Processed \", models.shape[0], \"models on\", len(predictors)+1,\"predictors in\", (toc-tic), \"seconds.\")\n",
    "    # Return the best model, along with some other useful information about the model\n",
    "    return best_model"
   ]
  },
  {
   "cell_type": "code",
   "execution_count": 13,
   "id": "bd2a2392",
   "metadata": {},
   "outputs": [],
   "source": [
    "def forward_selection():\n",
    "    models_best = pd.DataFrame(columns = [\"Accuracy\", \"model\"])\n",
    "    tic = time.time()\n",
    "    predictors = []\n",
    "    for i in range(1, len(X.columns)+1):\n",
    "        models_best.loc[i] = forward(predictors)\n",
    "        predictors = list(models_best.loc[i][\"model\"].params.index[1:])\n",
    "        # Extra handling for qualitative variables\n",
    "        for i in range(len(predictors)):\n",
    "            predictors[i] = predictors[i].split('[')[0]\n",
    "        # Removing duplicates\n",
    "        predictors = list(OrderedDict.fromkeys(predictors))\n",
    "    toc = time.time()\n",
    "    print(\"Total elapsed time:\", (toc-tic), \"seconds.\")\n",
    "    return models_best"
   ]
  },
  {
   "cell_type": "code",
   "execution_count": 27,
   "id": "a72b9925",
   "metadata": {},
   "outputs": [],
   "source": [
    "def best_sub_plots(models_best):\n",
    "    plt.figure(figsize = (20,15))\n",
    "    plt.rcParams.update({'font.size': 18, 'lines.markersize': 10})\n",
    "    # Set up a 2x2 grid so we can look at 4 plots at once\n",
    "    plt.subplot(3, 2, 1)\n",
    "    # We will now plot a red dot to indicate the model with the largest training Accuracy statistic.\n",
    "    plt.plot(models_best[\"Accuracy\"])\n",
    "    plt.plot(1 + models_best[\"Accuracy\"].argmax(), models_best[\"Accuracy\"].max(), \"or\")\n",
    "    plt.xlabel('# Predictors')\n",
    "    plt.ylabel('Training Accuracy')\n",
    "    plt.text(1 + models_best[\"Accuracy\"].argmax(), models_best[\"Accuracy\"].max(), str(1 + models_best[\"Accuracy\"].argmax()),\n",
    "            verticalalignment='bottom', horizontalalignment='right')\n",
    "    \n",
    "    # We will now plot a red dot to indicate the model with the smallest training Precision statistic.\n",
    "    models_best['Precision'] = models_best.apply(lambda row: precision(confusion_matrix(train, train.satisfaction, row[1])), axis=1)\n",
    "    plt.subplot(3, 2, 2)\n",
    "    plt.plot(models_best['Precision'])\n",
    "    plt.plot(1 + models_best['Precision'].argmax(), models_best['Precision'].max(), \"or\")\n",
    "    plt.xlabel('# Predictors')\n",
    "    plt.ylabel('Training Precision')\n",
    "    plt.text(1 + models_best['Precision'].argmax(), models_best['Precision'].max(), str(1 + models_best['Precision'].argmax()),\n",
    "            verticalalignment='bottom', horizontalalignment='right')\n",
    "    \n",
    "    "
   ]
  },
  {
   "cell_type": "code",
   "execution_count": 25,
   "id": "9fc2aa71",
   "metadata": {},
   "outputs": [
    {
     "name": "stdout",
     "output_type": "stream",
     "text": [
      "Processed  27 models on 1 predictors in 1.2451457977294922 seconds.\n",
      "Processed  26 models on 2 predictors in 1.42549467086792 seconds.\n",
      "Processed  25 models on 3 predictors in 1.7399632930755615 seconds.\n",
      "Processed  24 models on 4 predictors in 1.8270490169525146 seconds.\n",
      "Processed  23 models on 5 predictors in 4.105967283248901 seconds.\n",
      "Processed  22 models on 6 predictors in 4.694643974304199 seconds.\n",
      "Processed  21 models on 7 predictors in 4.664995908737183 seconds.\n",
      "Processed  20 models on 8 predictors in 4.83539080619812 seconds.\n",
      "Processed  19 models on 9 predictors in 4.026109933853149 seconds.\n",
      "Processed  18 models on 10 predictors in 4.461400032043457 seconds.\n",
      "Processed  17 models on 11 predictors in 5.073512077331543 seconds.\n",
      "Processed  16 models on 12 predictors in 5.0543341636657715 seconds.\n",
      "Processed  15 models on 13 predictors in 3.8357021808624268 seconds.\n",
      "Processed  14 models on 14 predictors in 4.426347017288208 seconds.\n",
      "Processed  13 models on 15 predictors in 4.550791025161743 seconds.\n",
      "Processed  12 models on 16 predictors in 4.655685901641846 seconds.\n",
      "Processed  11 models on 17 predictors in 3.5149619579315186 seconds.\n",
      "Processed  10 models on 18 predictors in 4.326442003250122 seconds.\n",
      "Processed  9 models on 19 predictors in 3.4575917720794678 seconds.\n",
      "Processed  8 models on 20 predictors in 2.402561902999878 seconds.\n",
      "Processed  7 models on 21 predictors in 2.3045740127563477 seconds.\n",
      "Processed  6 models on 22 predictors in 2.5447840690612793 seconds.\n",
      "Processed  5 models on 23 predictors in 2.8444459438323975 seconds.\n",
      "Processed  4 models on 24 predictors in 2.2685248851776123 seconds.\n",
      "Processed  3 models on 25 predictors in 1.9480841159820557 seconds.\n",
      "Processed  2 models on 26 predictors in 1.6883840560913086 seconds.\n",
      "Processed  1 models on 27 predictors in 0.5569400787353516 seconds.\n",
      "Total elapsed time: 88.88825821876526 seconds.\n"
     ]
    }
   ],
   "source": [
    "models_best = forward_selection()"
   ]
  },
  {
   "cell_type": "code",
   "execution_count": 28,
   "id": "b4e1bd90",
   "metadata": {},
   "outputs": [
    {
     "data": {
      "image/png": "[encoded data removed]",
      "text/plain": [
       "<Figure size 1440x1080 with 2 Axes>"
      ]
     },
     "metadata": {
      "needs_background": "light"
     },
     "output_type": "display_data"
    }
   ],
   "source": [
    "def precision(matrix):\n",
    "    return matrix[0].loc['Actual 1', 'Predicted 1'] / (matrix[0].loc['Actual 1', 'Predicted 1'] + matrix[0].loc['Actual 0', 'Predicted 1'])\n",
    "\n",
    "    \n",
    "\n",
    "\n",
    "best_sub_plots(models_best)"
   ]
  },
  {
   "cell_type": "code",
   "execution_count": 35,
   "id": "46c3ead5",
   "metadata": {},
   "outputs": [],
   "source": [
    "# Determined by best minimum classification accuracy\n",
    "best_fwd_reg_model = models_best['model'][22]\n",
    "best_fwd_reg_model.summary()\n",
    "\n",
    "pickle.dump(best_fwd_reg_model, open('forward_selection.sav', 'wb'))"
   ]
  },
  {
   "cell_type": "code",
   "execution_count": 36,
   "id": "4d82aaac",
   "metadata": {},
   "outputs": [
    {
     "name": "stdout",
     "output_type": "stream",
     "text": [
      "(          Predicted 0  Predicted 1\n",
      "Actual 0      14455.0         73.0\n",
      "Actual 1       5582.0       5783.0, 78.16012049588691)\n",
      "Precision: 0.9875341530054644\n"
     ]
    }
   ],
   "source": [
    "cf_test = confusion_matrix(Xtest, ytest, best_fwd_reg_model, 0.9)\n",
    "cm = cf_test[0]\n",
    "precision = cm['Predicted 1']['Actual 1'] / (cm['Predicted 1']['Actual 0'] + cm['Predicted 1']['Actual 1'])\n",
    "\n",
    "print(cf_test)\n",
    "print(\"Precision:\", precision)"
   ]
  },
  {
   "cell_type": "code",
   "execution_count": null,
   "id": "21ebc125",
   "metadata": {},
   "outputs": [],
   "source": []
  },
  {
   "cell_type": "markdown",
   "id": "a542b864",
   "metadata": {},
   "source": [
    "### Accuracy on Test: 78.16% {-}\n",
    "### Precision on Test: 98.75% {-}"
   ]
  },
  {
   "cell_type": "markdown",
   "id": "e9cc5335",
   "metadata": {},
   "source": [
    "### Logistic Regression  {-}"
   ]
  },
  {
   "cell_type": "code",
   "execution_count": 69,
   "id": "9efd8899",
   "metadata": {},
   "outputs": [],
   "source": [
    "def plot_precision_recall_vs_threshold(precisions, recalls, thresholds):\n",
    "    plt.figure(figsize=(8, 8))\n",
    "    plt.title(\"Precision and Recall Scores as a function of the decision threshold\")\n",
    "    plt.plot(thresholds, precisions[:-1], \"b--\", label=\"Precision\")\n",
    "    plt.plot(thresholds, recalls[:-1], \"g-\", label=\"Recall\")\n",
    "    plt.ylabel(\"Score\")\n",
    "    plt.xlabel(\"Decision Threshold\")\n",
    "    plt.legend(loc='best')"
   ]
  },
  {
   "cell_type": "code",
   "execution_count": 56,
   "id": "5ae478fb",
   "metadata": {},
   "outputs": [
    {
     "name": "stdout",
     "output_type": "stream",
     "text": [
      "Fitting 5 folds for each of 75 candidates, totalling 375 fits\n"
     ]
    },
    {
     "data": {
      "text/plain": [
       "GridSearchCV(cv=KFold(n_splits=5, random_state=1, shuffle=True),\n",
       "             estimator=LogisticRegression(random_state=1), n_jobs=-1,\n",
       "             param_grid={'C': array([1.e-02, 1.e-01, 1.e+00, 1.e+01, 1.e+02]),\n",
       "                         'penalty': ['l1', 'l2', 'elasticnet'],\n",
       "                         'solver': ['newton-cg', 'lbfgs', 'liblinear', 'sag',\n",
       "                                    'saga']},\n",
       "             verbose=1)"
      ]
     },
     "execution_count": 56,
     "metadata": {},
     "output_type": "execute_result"
    }
   ],
   "source": [
    "parameters = {\n",
    "    \"penalty\": ['l1', 'l2', 'elasticnet'],\n",
    "    \"C\": np.geomspace(0.01, 100, 5),\n",
    "    \"solver\": ['newton-cg', 'lbfgs', 'liblinear', 'sag', 'saga']\n",
    "}\n",
    "\n",
    "cv = KFold(n_splits = 5, shuffle = True, random_state = 1)\n",
    "model = GridSearchCV(\n",
    "    LogisticRegression(random_state = 1),\n",
    "    parameters,\n",
    "    n_jobs = -1,\n",
    "    verbose = 1,\n",
    "    cv = cv\n",
    ")\n",
    "\n",
    "model.fit(X, y)"
   ]
  },
  {
   "cell_type": "code",
   "execution_count": 57,
   "id": "8ac40f51",
   "metadata": {},
   "outputs": [
    {
     "data": {
      "text/plain": [
       "{'C': 0.01, 'penalty': 'l2', 'solver': 'newton-cg'}"
      ]
     },
     "execution_count": 57,
     "metadata": {},
     "output_type": "execute_result"
    }
   ],
   "source": [
    "model.best_params_"
   ]
  },
  {
   "cell_type": "code",
   "execution_count": 92,
   "id": "edf7c750",
   "metadata": {},
   "outputs": [
    {
     "name": "stdout",
     "output_type": "stream",
     "text": [
      "Accuracy =  86.27042057698992\n",
      "Precision =  93.85669362084457\n",
      "FNR =  26.467223933128025\n",
      "FPR =  3.765143171806167\n",
      "TPR or Recall =  73.53277606687197\n",
      "Confusion matrix = \n",
      "           Predicted 0  Predicted 1\n",
      "Actual 0      13981.0        547.0\n",
      "Actual 1       3008.0       8357.0\n",
      " \n"
     ]
    }
   ],
   "source": [
    "model_updated = LogisticRegression(\n",
    "    C = 0.01, penalty = 'l2', solver = 'newton-cg'\n",
    ").fit(X, y)\n",
    "\n",
    "pickle.dump(model_updated, open('logistic_regression.sav', 'wb'))\n",
    "print(confusion_matrix_data(Xtest,ytest,model_updated,cutoff=0.7))"
   ]
  },
  {
   "cell_type": "markdown",
   "id": "459d42cd",
   "metadata": {},
   "source": [
    "### Accuracy on Test: 86.27% {-}\n",
    "### Precision on Test: 93.86% {-}"
   ]
  },
  {
   "cell_type": "markdown",
   "id": "9e576b49",
   "metadata": {},
   "source": [
    "## Non-Linear Models (303-3 Models) {-}"
   ]
  },
  {
   "cell_type": "markdown",
   "id": "595f0197",
   "metadata": {},
   "source": [
    "### Basic Decision Tree {-}"
   ]
  },
  {
   "cell_type": "code",
   "execution_count": 110,
   "id": "7bee20e9",
   "metadata": {},
   "outputs": [
    {
     "name": "stdout",
     "output_type": "stream",
     "text": [
      "Fitting 5 folds for each of 9 candidates, totalling 45 fits\n"
     ]
    },
    {
     "data": {
      "text/plain": [
       "GridSearchCV(cv=KFold(n_splits=5, random_state=1, shuffle=True),\n",
       "             estimator=DecisionTreeClassifier(random_state=1), n_jobs=-1,\n",
       "             param_grid={'max_depth': [10, 25, 50],\n",
       "                         'max_leaf_nodes': [50, 100, 200]},\n",
       "             verbose=1)"
      ]
     },
     "execution_count": 110,
     "metadata": {},
     "output_type": "execute_result"
    }
   ],
   "source": [
    "parameters = {\n",
    "    'max_depth': [10, 25, 50],\n",
    "    'max_leaf_nodes': [50, 100, 200]\n",
    "}\n",
    "\n",
    "cv = KFold(n_splits = 5, shuffle = True, random_state = 1)\n",
    "model = GridSearchCV(\n",
    "    DecisionTreeClassifier(random_state = 1),\n",
    "    parameters,\n",
    "    n_jobs = -1,\n",
    "    verbose = 1,\n",
    "    cv = cv\n",
    ")\n",
    "\n",
    "model.fit(X, y)"
   ]
  },
  {
   "cell_type": "code",
   "execution_count": 111,
   "id": "d81c7943",
   "metadata": {},
   "outputs": [
    {
     "data": {
      "text/plain": [
       "{'max_depth': 25, 'max_leaf_nodes': 200}"
      ]
     },
     "execution_count": 111,
     "metadata": {},
     "output_type": "execute_result"
    }
   ],
   "source": [
    "model.best_params_"
   ]
  },
  {
   "cell_type": "code",
   "execution_count": 100,
   "id": "63966d2b",
   "metadata": {},
   "outputs": [
    {
     "name": "stdout",
     "output_type": "stream",
     "text": [
      "(          Predicted 0  Predicted 1\n",
      "Actual 0      14141.0        387.0\n",
      "Actual 1        753.0      10612.0, 95.59726567025837)\n",
      "Accuracy: 0.9559726567025837\n",
      "Precision: 0.9648149831802891\n"
     ]
    }
   ],
   "source": [
    "model_updated = DecisionTreeClassifier(\n",
    "    max_depth = 25, max_leaf_nodes = 200, random_state = 1\n",
    ").fit(X, y)\n",
    "\n",
    "pickle.dump(model_updated, open('decision_tree_basic.sav', 'wb'))\n",
    "\n",
    "cf_test = confusion_matrix(Xtest, ytest, model_updated, 0.9)\n",
    "cm = cf_test[0]\n",
    "accuracy = (cm['Predicted 0']['Actual 0'] + cm['Predicted 1']['Actual 1']) / (cm['Predicted 0'].sum() + cm['Predicted 1'].sum())\n",
    "precision = cm['Predicted 1']['Actual 1'] / (cm['Predicted 1']['Actual 0'] + cm['Predicted 1']['Actual 1'])\n",
    "\n",
    "print(cf_test)\n",
    "print(\"Accuracy:\", accuracy)\n",
    "print(\"Precision:\", precision)"
   ]
  },
  {
   "cell_type": "markdown",
   "id": "13f423c3",
   "metadata": {},
   "source": [
    "### Accuracy on Test: 95.60% {-}\n",
    "### Precision on Test: 96.48% {-}"
   ]
  },
  {
   "cell_type": "code",
   "execution_count": 43,
   "id": "35b7e5f0",
   "metadata": {},
   "outputs": [
    {
     "data": {
      "text/html": [
       "<div>\n",
       "<style scoped>\n",
       "    .dataframe tbody tr th:only-of-type {\n",
       "        vertical-align: middle;\n",
       "    }\n",
       "\n",
       "    .dataframe tbody tr th {\n",
       "        vertical-align: top;\n",
       "    }\n",
       "\n",
       "    .dataframe thead th {\n",
       "        text-align: right;\n",
       "    }\n",
       "</style>\n",
       "<table border=\"1\" class=\"dataframe\">\n",
       "  <thead>\n",
       "    <tr style=\"text-align: right;\">\n",
       "      <th></th>\n",
       "      <th>feature</th>\n",
       "      <th>importance</th>\n",
       "    </tr>\n",
       "  </thead>\n",
       "  <tbody>\n",
       "    <tr>\n",
       "      <th>7</th>\n",
       "      <td>Online_boarding</td>\n",
       "      <td>0.412583</td>\n",
       "    </tr>\n",
       "    <tr>\n",
       "      <th>2</th>\n",
       "      <td>Inflight_wifi_service</td>\n",
       "      <td>0.200737</td>\n",
       "    </tr>\n",
       "    <tr>\n",
       "      <th>23</th>\n",
       "      <td>Type_of_Travel_Personal_Travel</td>\n",
       "      <td>0.149791</td>\n",
       "    </tr>\n",
       "    <tr>\n",
       "      <th>9</th>\n",
       "      <td>Inflight_entertainment</td>\n",
       "      <td>0.051871</td>\n",
       "    </tr>\n",
       "    <tr>\n",
       "      <th>21</th>\n",
       "      <td>Customer_Type_disloyal_Customer</td>\n",
       "      <td>0.027791</td>\n",
       "    </tr>\n",
       "    <tr>\n",
       "      <th>13</th>\n",
       "      <td>Checkin_service</td>\n",
       "      <td>0.025959</td>\n",
       "    </tr>\n",
       "    <tr>\n",
       "      <th>24</th>\n",
       "      <td>Class_Business</td>\n",
       "      <td>0.023013</td>\n",
       "    </tr>\n",
       "    <tr>\n",
       "      <th>5</th>\n",
       "      <td>Gate_location</td>\n",
       "      <td>0.017915</td>\n",
       "    </tr>\n",
       "    <tr>\n",
       "      <th>22</th>\n",
       "      <td>Type_of_Travel_Business_travel</td>\n",
       "      <td>0.017412</td>\n",
       "    </tr>\n",
       "    <tr>\n",
       "      <th>20</th>\n",
       "      <td>Customer_Type_Loyal_Customer</td>\n",
       "      <td>0.016967</td>\n",
       "    </tr>\n",
       "    <tr>\n",
       "      <th>8</th>\n",
       "      <td>Seat_comfort</td>\n",
       "      <td>0.011216</td>\n",
       "    </tr>\n",
       "    <tr>\n",
       "      <th>14</th>\n",
       "      <td>Inflight_service</td>\n",
       "      <td>0.010975</td>\n",
       "    </tr>\n",
       "    <tr>\n",
       "      <th>12</th>\n",
       "      <td>Baggage_handling</td>\n",
       "      <td>0.009638</td>\n",
       "    </tr>\n",
       "    <tr>\n",
       "      <th>0</th>\n",
       "      <td>Age</td>\n",
       "      <td>0.006031</td>\n",
       "    </tr>\n",
       "    <tr>\n",
       "      <th>15</th>\n",
       "      <td>Cleanliness</td>\n",
       "      <td>0.005766</td>\n",
       "    </tr>\n",
       "    <tr>\n",
       "      <th>11</th>\n",
       "      <td>Leg_room_service</td>\n",
       "      <td>0.004824</td>\n",
       "    </tr>\n",
       "    <tr>\n",
       "      <th>10</th>\n",
       "      <td>Onboard_service</td>\n",
       "      <td>0.002952</td>\n",
       "    </tr>\n",
       "    <tr>\n",
       "      <th>17</th>\n",
       "      <td>Arrival_Delay_in_Minutes</td>\n",
       "      <td>0.002050</td>\n",
       "    </tr>\n",
       "    <tr>\n",
       "      <th>1</th>\n",
       "      <td>Flight_Distance</td>\n",
       "      <td>0.001142</td>\n",
       "    </tr>\n",
       "    <tr>\n",
       "      <th>4</th>\n",
       "      <td>Ease_of_Online_booking</td>\n",
       "      <td>0.000672</td>\n",
       "    </tr>\n",
       "    <tr>\n",
       "      <th>6</th>\n",
       "      <td>Food_and_drink</td>\n",
       "      <td>0.000538</td>\n",
       "    </tr>\n",
       "    <tr>\n",
       "      <th>19</th>\n",
       "      <td>Gender_Male</td>\n",
       "      <td>0.000157</td>\n",
       "    </tr>\n",
       "    <tr>\n",
       "      <th>16</th>\n",
       "      <td>Departure_Delay_in_Minutes</td>\n",
       "      <td>0.000000</td>\n",
       "    </tr>\n",
       "    <tr>\n",
       "      <th>18</th>\n",
       "      <td>Gender_Female</td>\n",
       "      <td>0.000000</td>\n",
       "    </tr>\n",
       "    <tr>\n",
       "      <th>3</th>\n",
       "      <td>Departure_Arrival_time_convenient</td>\n",
       "      <td>0.000000</td>\n",
       "    </tr>\n",
       "    <tr>\n",
       "      <th>25</th>\n",
       "      <td>Class_Eco</td>\n",
       "      <td>0.000000</td>\n",
       "    </tr>\n",
       "    <tr>\n",
       "      <th>26</th>\n",
       "      <td>Class_Eco_Plus</td>\n",
       "      <td>0.000000</td>\n",
       "    </tr>\n",
       "  </tbody>\n",
       "</table>\n",
       "</div>"
      ],
      "text/plain": [
       "                              feature  importance\n",
       "7                     Online_boarding    0.412583\n",
       "2               Inflight_wifi_service    0.200737\n",
       "23     Type_of_Travel_Personal_Travel    0.149791\n",
       "9              Inflight_entertainment    0.051871\n",
       "21    Customer_Type_disloyal_Customer    0.027791\n",
       "13                    Checkin_service    0.025959\n",
       "24                     Class_Business    0.023013\n",
       "5                       Gate_location    0.017915\n",
       "22     Type_of_Travel_Business_travel    0.017412\n",
       "20       Customer_Type_Loyal_Customer    0.016967\n",
       "8                        Seat_comfort    0.011216\n",
       "14                   Inflight_service    0.010975\n",
       "12                   Baggage_handling    0.009638\n",
       "0                                 Age    0.006031\n",
       "15                        Cleanliness    0.005766\n",
       "11                   Leg_room_service    0.004824\n",
       "10                    Onboard_service    0.002952\n",
       "17           Arrival_Delay_in_Minutes    0.002050\n",
       "1                     Flight_Distance    0.001142\n",
       "4              Ease_of_Online_booking    0.000672\n",
       "6                      Food_and_drink    0.000538\n",
       "19                        Gender_Male    0.000157\n",
       "16         Departure_Delay_in_Minutes    0.000000\n",
       "18                      Gender_Female    0.000000\n",
       "3   Departure_Arrival_time_convenient    0.000000\n",
       "25                          Class_Eco    0.000000\n",
       "26                     Class_Eco_Plus    0.000000"
      ]
     },
     "execution_count": 43,
     "metadata": {},
     "output_type": "execute_result"
    }
   ],
   "source": [
    "pd.DataFrame(\n",
    "    zip(X.columns, model_updated.feature_importances_),\n",
    "    columns = [\"feature\", \"importance\"]\n",
    ").sort_values(\n",
    "    by = \"importance\",\n",
    "    key = lambda x: abs(x),\n",
    "    ascending = False\n",
    ")"
   ]
  },
  {
   "cell_type": "markdown",
   "id": "c3c678dd",
   "metadata": {},
   "source": [
    "### Bagged Logistic Regression Model {-}"
   ]
  },
  {
   "cell_type": "code",
   "execution_count": 11,
   "id": "7fef9b9c",
   "metadata": {},
   "outputs": [
    {
     "name": "stdout",
     "output_type": "stream",
     "text": [
      "Currently trying 10 estimators\n",
      "Currently trying 65 estimators\n",
      "Currently trying 121 estimators\n",
      "Currently trying 177 estimators\n",
      "Currently trying 232 estimators\n",
      "Currently trying 288 estimators\n",
      "Currently trying 344 estimators\n",
      "Currently trying 400 estimators\n"
     ]
    },
    {
     "data": {
      "text/plain": [
       "<matplotlib.legend.Legend at 0x7fe2659d0a60>"
      ]
     },
     "execution_count": 11,
     "metadata": {},
     "output_type": "execute_result"
    },
    {
     "data": {
      "image/png": "[encoded data removed]",
      "text/plain": [
       "<Figure size 640x480 with 1 Axes>"
      ]
     },
     "metadata": {
      "needs_background": "light"
     },
     "output_type": "display_data"
    }
   ],
   "source": [
    "oob_precision = {}\n",
    "\n",
    "for i in np.linspace(10, 400, 8, dtype = int):\n",
    "    print(f\"Currently trying {i} estimators\")\n",
    "    model = BaggingClassifier(\n",
    "        base_estimator = LogisticRegression(),\n",
    "        n_estimators = i, random_state = 1,\n",
    "        n_jobs = -1, oob_score = True\n",
    "    ).fit(X, y)\n",
    "    \n",
    "    oob_pred = model.oob_decision_function_[:,1]\n",
    "    bins = np.array([0,0.5,1])\n",
    "    cm = np.histogram2d(y, oob_pred, bins=bins)[0]\n",
    "    oob_precision[i] = 100*(cm[1,1])/(cm[0,1]+cm[1,1])\n",
    "    \n",
    "plt.rcParams.update({'font.size': 15})\n",
    "plt.figure(figsize=(8, 6), dpi=80)\n",
    "plt.plot(oob_precision.keys(),oob_precision.values(),label = 'Out of bag precision')\n",
    "plt.plot(oob_precision.keys(),oob_precision.values(),'o',color = 'blue')\n",
    "plt.xlabel('Number of trees')\n",
    "plt.ylabel('Precision')\n",
    "plt.legend()"
   ]
  },
  {
   "cell_type": "code",
   "execution_count": 12,
   "id": "42ec6107",
   "metadata": {},
   "outputs": [
    {
     "name": "stdout",
     "output_type": "stream",
     "text": [
      "Currently trying 300 estimators\n",
      "Currently trying 350 estimators\n",
      "Currently trying 400 estimators\n",
      "Currently trying 450 estimators\n",
      "Currently trying 500 estimators\n",
      "Currently trying 550 estimators\n",
      "Currently trying 600 estimators\n",
      "-----------------------\n",
      "max precision =  78.12116856212742\n",
      "params=  (500,)\n"
     ]
    }
   ],
   "source": [
    "params = {\n",
    "    'n_estimators': range(300, 650, 50)\n",
    "}\n",
    "param_list = list(it.product(*(params[name] for name in params)))\n",
    "precision = [None for i in range(len(param_list))]\n",
    "\n",
    "for index, pr in enumerate(param_list):\n",
    "    print(f\"Currently trying {pr[0]} estimators\")\n",
    "    model = BaggingClassifier(\n",
    "        base_estimator = LogisticRegression(),\n",
    "        n_estimators = pr[0], random_state = 1,\n",
    "        n_jobs = -1, oob_score = True\n",
    "    ).fit(X, y)\n",
    "    \n",
    "    oob_pred = model.oob_decision_function_[:,1]\n",
    "    bins = np.array([0,0.5,1])\n",
    "    cm = np.histogram2d(y, oob_pred, bins=bins)[0]\n",
    "    precision[index] = 100*(cm[1,1])/(cm[0,1]+cm[1,1])\n",
    "\n",
    "print(\"-----------------------\")\n",
    "print(\"max precision = \", np.max(precision))\n",
    "print(\"params= \", param_list[np.argmax(precision)])"
   ]
  },
  {
   "cell_type": "code",
   "execution_count": 80,
   "id": "a1e1fad7",
   "metadata": {
    "scrolled": false
   },
   "outputs": [],
   "source": [
    "model_updated = BaggingClassifier(\n",
    "    base_estimator = LogisticRegression(),\n",
    "    n_estimators = 500, random_state = 1,\n",
    "    n_jobs = -1, oob_score = True\n",
    ").fit(X, y)"
   ]
  },
  {
   "cell_type": "code",
   "execution_count": 79,
   "id": "537b8247",
   "metadata": {},
   "outputs": [],
   "source": [
    "pickle.dump(model_updated, open('bagging_logistic_regression.sav', 'wb'))"
   ]
  },
  {
   "cell_type": "code",
   "execution_count": 74,
   "id": "7618476c",
   "metadata": {},
   "outputs": [
    {
     "name": "stdout",
     "output_type": "stream",
     "text": [
      "Accuracy =  78.04812111381455\n",
      "Precision =  90.06912117364932\n",
      "FNR =  43.81874175098988\n",
      "FPR =  4.845814977973569\n",
      "TPR or Recall =  56.18125824901012\n",
      "Confusion matrix = \n",
      "           Predicted 0  Predicted 1\n",
      "Actual 0      13824.0        704.0\n",
      "Actual 1       4980.0       6385.0\n",
      " \n"
     ]
    }
   ],
   "source": [
    "print(confusion_matrix_data(Xtest,ytest,model_updated,cutoff=0.75))"
   ]
  },
  {
   "cell_type": "markdown",
   "id": "29c7bf03",
   "metadata": {},
   "source": [
    "### Accuracy on Test: 78.05% {-}\n",
    "### Precision on Test: 90.07% {-}"
   ]
  },
  {
   "cell_type": "markdown",
   "id": "350ae272",
   "metadata": {},
   "source": [
    "### Bagged Decision Tree Model {-}"
   ]
  },
  {
   "cell_type": "code",
   "execution_count": 98,
   "id": "0dfca883",
   "metadata": {},
   "outputs": [
    {
     "name": "stdout",
     "output_type": "stream",
     "text": [
      "Currently trying 10 estimators\n",
      "Currently trying 65 estimators\n",
      "Currently trying 121 estimators\n",
      "Currently trying 177 estimators\n",
      "Currently trying 232 estimators\n",
      "Currently trying 288 estimators\n",
      "Currently trying 344 estimators\n",
      "Currently trying 400 estimators\n"
     ]
    },
    {
     "data": {
      "text/plain": [
       "<matplotlib.legend.Legend at 0x7faf20ff93a0>"
      ]
     },
     "execution_count": 98,
     "metadata": {},
     "output_type": "execute_result"
    },
    {
     "data": {
      "image/png": "[encoded data removed]",
      "text/plain": [
       "<Figure size 640x480 with 1 Axes>"
      ]
     },
     "metadata": {
      "needs_background": "light"
     },
     "output_type": "display_data"
    }
   ],
   "source": [
    "oob_precision = {}\n",
    "\n",
    "for i in np.linspace(10, 400, 8, dtype = int):\n",
    "    print(f\"Currently trying {i} estimators\")\n",
    "    model = BaggingClassifier(\n",
    "        base_estimator = DecisionTreeClassifier(),\n",
    "        n_estimators = i, random_state = 1,\n",
    "        n_jobs = -1, oob_score = True\n",
    "    ).fit(X, y)\n",
    "    \n",
    "    oob_pred = model.oob_decision_function_[:,1]\n",
    "    bins = np.array([0,0.5,1])\n",
    "    cm = np.histogram2d(y, oob_pred, bins=bins)[0]\n",
    "    oob_precision[i] = 100*(cm[1,1])/(cm[0,1]+cm[1,1])\n",
    "    \n",
    "plt.rcParams.update({'font.size': 15})\n",
    "plt.figure(figsize=(8, 6), dpi=80)\n",
    "plt.plot(oob_precision.keys(),oob_precision.values(),label = 'Out of bag precision')\n",
    "plt.plot(oob_precision.keys(),oob_precision.values(),'o',color = 'blue')\n",
    "plt.xlabel('Number of trees')\n",
    "plt.ylabel('Precision')\n",
    "plt.legend()"
   ]
  },
  {
   "cell_type": "code",
   "execution_count": 102,
   "id": "345800b8",
   "metadata": {},
   "outputs": [
    {
     "name": "stdout",
     "output_type": "stream",
     "text": [
      "Currently trying 200 estimators\n",
      "Currently trying 225 estimators\n",
      "Currently trying 250 estimators\n",
      "Currently trying 275 estimators\n",
      "Currently trying 300 estimators\n",
      "Currently trying 325 estimators\n",
      "Currently trying 350 estimators\n",
      "Currently trying 375 estimators\n",
      "Currently trying 400 estimators\n",
      "-----------------------\n",
      "max precision =  97.0374280010097\n",
      "params=  (350,)\n"
     ]
    }
   ],
   "source": [
    "params = {\n",
    "    'n_estimators': range(200, 425, 25)\n",
    "}\n",
    "param_list = list(it.product(*(params[name] for name in params)))\n",
    "precision = [None for i in range(len(param_list))]\n",
    "\n",
    "for index, pr in enumerate(param_list):\n",
    "    print(f\"Currently trying {pr[0]} estimators\")\n",
    "    model = BaggingClassifier(\n",
    "        base_estimator = DecisionTreeClassifier(),\n",
    "        n_estimators = pr[0], random_state = 1,\n",
    "        n_jobs = -1, oob_score = True\n",
    "    ).fit(X, y)\n",
    "    \n",
    "    oob_pred = model.oob_decision_function_[:,1]\n",
    "    bins = np.array([0,0.5,1])\n",
    "    cm = np.histogram2d(y, oob_pred, bins=bins)[0]\n",
    "    precision[index] = 100*(cm[1,1])/(cm[0,1]+cm[1,1])\n",
    "\n",
    "print(\"-----------------------\")\n",
    "print(\"max precision = \", np.max(precision))\n",
    "print(\"params= \", param_list[np.argmax(precision)])"
   ]
  },
  {
   "cell_type": "code",
   "execution_count": 101,
   "id": "0cb63014",
   "metadata": {},
   "outputs": [],
   "source": [
    "model_updated = BaggingClassifier(\n",
    "    base_estimator = DecisionTreeClassifier(),\n",
    "    n_estimators = 350, random_state = 1,\n",
    "    n_jobs = -1, oob_score = True\n",
    ").fit(X, y)\n",
    "\n",
    "pickle.dump(model_updated, open('bagging_decision_tree.sav', 'wb'))"
   ]
  },
  {
   "cell_type": "code",
   "execution_count": 102,
   "id": "63352b07",
   "metadata": {},
   "outputs": [
    {
     "name": "stdout",
     "output_type": "stream",
     "text": [
      "Accuracy =  94.624029660526\n",
      "Precision =  99.67128200019923\n",
      "FNR =  11.957765068191817\n",
      "FPR =  0.22714757709251102\n",
      "TPR or Recall =  88.04223493180818\n",
      "Confusion matrix = \n",
      "           Predicted 0  Predicted 1\n",
      "Actual 0      14495.0         33.0\n",
      "Actual 1       1359.0      10006.0\n",
      " \n"
     ]
    }
   ],
   "source": [
    "print(confusion_matrix_data(Xtest,ytest,model_updated,cutoff=0.9))"
   ]
  },
  {
   "cell_type": "markdown",
   "id": "d6ce53cc",
   "metadata": {},
   "source": [
    "### Accuracy on Test: 94.62% {-}\n",
    "### Precision on Test: 99.67% {-}"
   ]
  },
  {
   "cell_type": "code",
   "execution_count": 48,
   "id": "c55b6cc8",
   "metadata": {},
   "outputs": [
    {
     "data": {
      "text/html": [
       "<div>\n",
       "<style scoped>\n",
       "    .dataframe tbody tr th:only-of-type {\n",
       "        vertical-align: middle;\n",
       "    }\n",
       "\n",
       "    .dataframe tbody tr th {\n",
       "        vertical-align: top;\n",
       "    }\n",
       "\n",
       "    .dataframe thead th {\n",
       "        text-align: right;\n",
       "    }\n",
       "</style>\n",
       "<table border=\"1\" class=\"dataframe\">\n",
       "  <thead>\n",
       "    <tr style=\"text-align: right;\">\n",
       "      <th></th>\n",
       "      <th>feature</th>\n",
       "      <th>importance</th>\n",
       "    </tr>\n",
       "  </thead>\n",
       "  <tbody>\n",
       "    <tr>\n",
       "      <th>7</th>\n",
       "      <td>Online_boarding</td>\n",
       "      <td>0.362442</td>\n",
       "    </tr>\n",
       "    <tr>\n",
       "      <th>2</th>\n",
       "      <td>Inflight_wifi_service</td>\n",
       "      <td>0.177195</td>\n",
       "    </tr>\n",
       "    <tr>\n",
       "      <th>22</th>\n",
       "      <td>Type_of_Travel_Business_travel</td>\n",
       "      <td>0.075931</td>\n",
       "    </tr>\n",
       "    <tr>\n",
       "      <th>23</th>\n",
       "      <td>Type_of_Travel_Personal_Travel</td>\n",
       "      <td>0.070897</td>\n",
       "    </tr>\n",
       "    <tr>\n",
       "      <th>9</th>\n",
       "      <td>Inflight_entertainment</td>\n",
       "      <td>0.047534</td>\n",
       "    </tr>\n",
       "    <tr>\n",
       "      <th>13</th>\n",
       "      <td>Checkin_service</td>\n",
       "      <td>0.028298</td>\n",
       "    </tr>\n",
       "    <tr>\n",
       "      <th>1</th>\n",
       "      <td>Flight_Distance</td>\n",
       "      <td>0.024670</td>\n",
       "    </tr>\n",
       "    <tr>\n",
       "      <th>0</th>\n",
       "      <td>Age</td>\n",
       "      <td>0.022664</td>\n",
       "    </tr>\n",
       "    <tr>\n",
       "      <th>21</th>\n",
       "      <td>Customer_Type_disloyal_Customer</td>\n",
       "      <td>0.020128</td>\n",
       "    </tr>\n",
       "    <tr>\n",
       "      <th>20</th>\n",
       "      <td>Customer_Type_Loyal_Customer</td>\n",
       "      <td>0.019852</td>\n",
       "    </tr>\n",
       "    <tr>\n",
       "      <th>24</th>\n",
       "      <td>Class_Business</td>\n",
       "      <td>0.019263</td>\n",
       "    </tr>\n",
       "    <tr>\n",
       "      <th>5</th>\n",
       "      <td>Gate_location</td>\n",
       "      <td>0.018877</td>\n",
       "    </tr>\n",
       "    <tr>\n",
       "      <th>12</th>\n",
       "      <td>Baggage_handling</td>\n",
       "      <td>0.017371</td>\n",
       "    </tr>\n",
       "    <tr>\n",
       "      <th>8</th>\n",
       "      <td>Seat_comfort</td>\n",
       "      <td>0.015324</td>\n",
       "    </tr>\n",
       "    <tr>\n",
       "      <th>14</th>\n",
       "      <td>Inflight_service</td>\n",
       "      <td>0.014815</td>\n",
       "    </tr>\n",
       "    <tr>\n",
       "      <th>11</th>\n",
       "      <td>Leg_room_service</td>\n",
       "      <td>0.010854</td>\n",
       "    </tr>\n",
       "    <tr>\n",
       "      <th>17</th>\n",
       "      <td>Arrival_Delay_in_Minutes</td>\n",
       "      <td>0.009628</td>\n",
       "    </tr>\n",
       "    <tr>\n",
       "      <th>15</th>\n",
       "      <td>Cleanliness</td>\n",
       "      <td>0.009568</td>\n",
       "    </tr>\n",
       "    <tr>\n",
       "      <th>10</th>\n",
       "      <td>Onboard_service</td>\n",
       "      <td>0.008815</td>\n",
       "    </tr>\n",
       "    <tr>\n",
       "      <th>16</th>\n",
       "      <td>Departure_Delay_in_Minutes</td>\n",
       "      <td>0.007290</td>\n",
       "    </tr>\n",
       "    <tr>\n",
       "      <th>3</th>\n",
       "      <td>Departure_Arrival_time_convenient</td>\n",
       "      <td>0.005909</td>\n",
       "    </tr>\n",
       "    <tr>\n",
       "      <th>6</th>\n",
       "      <td>Food_and_drink</td>\n",
       "      <td>0.004178</td>\n",
       "    </tr>\n",
       "    <tr>\n",
       "      <th>4</th>\n",
       "      <td>Ease_of_Online_booking</td>\n",
       "      <td>0.003815</td>\n",
       "    </tr>\n",
       "    <tr>\n",
       "      <th>19</th>\n",
       "      <td>Gender_Male</td>\n",
       "      <td>0.001341</td>\n",
       "    </tr>\n",
       "    <tr>\n",
       "      <th>18</th>\n",
       "      <td>Gender_Female</td>\n",
       "      <td>0.001302</td>\n",
       "    </tr>\n",
       "    <tr>\n",
       "      <th>25</th>\n",
       "      <td>Class_Eco</td>\n",
       "      <td>0.001291</td>\n",
       "    </tr>\n",
       "    <tr>\n",
       "      <th>26</th>\n",
       "      <td>Class_Eco_Plus</td>\n",
       "      <td>0.000746</td>\n",
       "    </tr>\n",
       "  </tbody>\n",
       "</table>\n",
       "</div>"
      ],
      "text/plain": [
       "                              feature  importance\n",
       "7                     Online_boarding    0.362442\n",
       "2               Inflight_wifi_service    0.177195\n",
       "22     Type_of_Travel_Business_travel    0.075931\n",
       "23     Type_of_Travel_Personal_Travel    0.070897\n",
       "9              Inflight_entertainment    0.047534\n",
       "13                    Checkin_service    0.028298\n",
       "1                     Flight_Distance    0.024670\n",
       "0                                 Age    0.022664\n",
       "21    Customer_Type_disloyal_Customer    0.020128\n",
       "20       Customer_Type_Loyal_Customer    0.019852\n",
       "24                     Class_Business    0.019263\n",
       "5                       Gate_location    0.018877\n",
       "12                   Baggage_handling    0.017371\n",
       "8                        Seat_comfort    0.015324\n",
       "14                   Inflight_service    0.014815\n",
       "11                   Leg_room_service    0.010854\n",
       "17           Arrival_Delay_in_Minutes    0.009628\n",
       "15                        Cleanliness    0.009568\n",
       "10                    Onboard_service    0.008815\n",
       "16         Departure_Delay_in_Minutes    0.007290\n",
       "3   Departure_Arrival_time_convenient    0.005909\n",
       "6                      Food_and_drink    0.004178\n",
       "4              Ease_of_Online_booking    0.003815\n",
       "19                        Gender_Male    0.001341\n",
       "18                      Gender_Female    0.001302\n",
       "25                          Class_Eco    0.001291\n",
       "26                     Class_Eco_Plus    0.000746"
      ]
     },
     "execution_count": 48,
     "metadata": {},
     "output_type": "execute_result"
    }
   ],
   "source": [
    "feature_importances = np.mean([\n",
    "    tree.feature_importances_ for tree in model_updated.estimators_\n",
    "], axis=0)\n",
    "\n",
    "pd.DataFrame(\n",
    "    zip(X.columns, feature_importances),\n",
    "    columns = [\"feature\", \"importance\"]\n",
    ").sort_values(\n",
    "    by = \"importance\",\n",
    "    key = lambda x: abs(x),\n",
    "    ascending = False\n",
    ")"
   ]
  },
  {
   "cell_type": "markdown",
   "id": "416b540c",
   "metadata": {},
   "source": [
    "### Random Forest {-}"
   ]
  },
  {
   "cell_type": "code",
   "execution_count": 75,
   "id": "9d894d6d",
   "metadata": {},
   "outputs": [],
   "source": [
    "#Finding model accuracy vs number of trees\n",
    "oob_accuracy={};test_accuracy={};oob_precision={}; test_precision = {}\n",
    "\n",
    "for i in np.linspace(50,500,45,dtype=int):\n",
    "    model = RandomForestClassifier(n_estimators=i,\n",
    "                                   random_state=1,max_features=\"sqrt\",n_jobs=-1,oob_score=True).fit(X, y)\n",
    "    oob_accuracy[i]=model.oob_score_ #Returns the out-of_bag R-squared of the model\n",
    "    test_accuracy[i]=model.score(Xtest,ytest) #Returns the test R-squared of the model\n",
    "    oob_pred = model.oob_decision_function_[:,1]\n",
    "    bins=np.array([0,0.5,1])\n",
    "    cm = np.histogram2d(y, oob_pred, bins=bins)[0]\n",
    "    oob_precision[i] = 100*(cm[1,1])/(cm[0,1]+cm[1,1])\n",
    "    test_pred = model.predict_proba(Xtest)[:,1]\n",
    "    cm = np.histogram2d(ytest, test_pred, bins=bins)[0]\n",
    "    test_precision[i] = 100*(cm[1,1])/(cm[0,1]+cm[1,1])"
   ]
  },
  {
   "cell_type": "code",
   "execution_count": 76,
   "id": "fddc4c77",
   "metadata": {},
   "outputs": [
    {
     "data": {
      "text/plain": [
       "<matplotlib.legend.Legend at 0x7fe2afe95430>"
      ]
     },
     "execution_count": 76,
     "metadata": {},
     "output_type": "execute_result"
    },
    {
     "data": {
      "image/png": "[encoded data removed]",
      "text/plain": [
       "<Figure size 640x480 with 1 Axes>"
      ]
     },
     "metadata": {
      "needs_background": "light"
     },
     "output_type": "display_data"
    }
   ],
   "source": [
    "#Precision vs number of trees\n",
    "plt.rcParams.update({'font.size': 15})\n",
    "plt.figure(figsize=(8, 6), dpi=80)\n",
    "plt.plot(oob_precision.keys(),oob_precision.values(),label = 'Out of bag precision')\n",
    "plt.plot(oob_precision.keys(),oob_precision.values(),'o',color = 'blue')\n",
    "plt.plot(test_precision.keys(),test_precision.values(), label = 'Test data precision')\n",
    "plt.xlabel('Number of trees')\n",
    "plt.ylabel('Precision')\n",
    "plt.legend()"
   ]
  },
  {
   "cell_type": "code",
   "execution_count": 89,
   "id": "b37208f6",
   "metadata": {},
   "outputs": [
    {
     "data": {
      "text/plain": [
       "78"
      ]
     },
     "execution_count": 89,
     "metadata": {},
     "output_type": "execute_result"
    }
   ],
   "source": [
    "params = {'n_estimators': [400, 450, 500],\n",
    "          'max_features': range(2,28)\n",
    "         }\n",
    "\n",
    "param_list=list(it.product(*(params[Name] for Name in list(params.keys()))))\n",
    "precision = [0]*len(param_list)\n",
    "\n",
    "len(precision)"
   ]
  },
  {
   "cell_type": "code",
   "execution_count": 90,
   "id": "0e64fcd8",
   "metadata": {},
   "outputs": [
    {
     "name": "stdout",
     "output_type": "stream",
     "text": [
      "0\n",
      "1\n",
      "2\n",
      "3\n",
      "4\n",
      "5\n",
      "6\n",
      "7\n",
      "8\n",
      "9\n",
      "10\n",
      "11\n",
      "12\n",
      "13\n",
      "14\n",
      "15\n",
      "16\n",
      "17\n",
      "18\n",
      "19\n",
      "20\n",
      "21\n",
      "22\n",
      "23\n",
      "24\n",
      "25\n",
      "26\n",
      "27\n",
      "28\n",
      "29\n",
      "30\n",
      "31\n",
      "32\n",
      "33\n",
      "34\n",
      "35\n",
      "36\n",
      "37\n",
      "38\n",
      "39\n",
      "40\n",
      "41\n",
      "42\n",
      "43\n",
      "44\n",
      "45\n",
      "46\n",
      "47\n",
      "48\n",
      "49\n",
      "50\n",
      "51\n",
      "52\n",
      "53\n",
      "54\n",
      "55\n",
      "56\n",
      "57\n",
      "58\n",
      "59\n",
      "60\n",
      "61\n",
      "62\n",
      "63\n",
      "64\n",
      "65\n",
      "66\n",
      "67\n",
      "68\n",
      "69\n",
      "70\n",
      "71\n",
      "72\n",
      "73\n",
      "74\n",
      "75\n",
      "76\n",
      "77\n",
      "max recall =  97.47164515609543\n",
      "params=  (450, 13)\n"
     ]
    }
   ],
   "source": [
    "i=0\n",
    "\n",
    "for pr in param_list:\n",
    "    print(i)\n",
    "    model = RandomForestClassifier(random_state=1,\n",
    "                                   oob_score=True,\n",
    "                                   verbose=False,\n",
    "                                   n_estimators= pr[0],\n",
    "                                   max_features=pr[1], n_jobs=-1).fit(X,y)\n",
    "    oob_pred = model.oob_decision_function_[:,1]\n",
    "    bins=np.array([0,0.5,1])\n",
    "    cm = np.histogram2d(y, oob_pred, bins=bins)[0]\n",
    "    precision[i] = 100*(cm[1,1])/(cm[0,1]+cm[1,1])\n",
    "    i=i+1\n",
    "\n",
    "print(\"max precision = \", np.max(precision))\n",
    "print(\"params= \", param_list[np.argmax(precision)])"
   ]
  },
  {
   "cell_type": "code",
   "execution_count": 103,
   "id": "b7db00ae",
   "metadata": {},
   "outputs": [],
   "source": [
    "model = RandomForestClassifier(random_state=1,n_jobs=-1,max_features=13,n_estimators=450).fit(X, y)\n",
    "pickle.dump(model, open('random_forest.sav', 'wb'))"
   ]
  },
  {
   "cell_type": "code",
   "execution_count": 96,
   "id": "784ce34f",
   "metadata": {},
   "outputs": [
    {
     "data": {
      "image/png": "[encoded data removed]",
      "text/plain": [
       "<Figure size 576x576 with 1 Axes>"
      ]
     },
     "metadata": {
      "needs_background": "light"
     },
     "output_type": "display_data"
    }
   ],
   "source": [
    "ypred = model.predict_proba(Xtest)[:, 1]\n",
    "p, r, thresholds = precision_recall_curve(ytest, ypred)\n",
    "plot_precision_recall_vs_threshold(p, r, thresholds)"
   ]
  },
  {
   "cell_type": "code",
   "execution_count": 104,
   "id": "101a5a03",
   "metadata": {},
   "outputs": [
    {
     "name": "stdout",
     "output_type": "stream",
     "text": [
      "Accuracy =  94.35754837214691\n",
      "Precision =  99.89923417976622\n",
      "FNR =  12.767267927848659\n",
      "FPR =  0.06883259911894272\n",
      "TPR or Recall =  87.23273207215134\n",
      "Confusion matrix = \n",
      "           Predicted 0  Predicted 1\n",
      "Actual 0      14518.0         10.0\n",
      "Actual 1       1451.0       9914.0\n",
      " \n"
     ]
    }
   ],
   "source": [
    "# print(confusion_matrix_data(X,y,model,cutoff=0.9))\n",
    "print(confusion_matrix_data(Xtest,ytest,model,cutoff=0.9))"
   ]
  },
  {
   "cell_type": "markdown",
   "id": "8fa9d5e3",
   "metadata": {},
   "source": [
    "### Accuracy on Test: 94.36% {-}\n",
    "### Precision on Test: 99.90% {-}"
   ]
  },
  {
   "cell_type": "code",
   "execution_count": 50,
   "id": "b71a66e0",
   "metadata": {},
   "outputs": [
    {
     "data": {
      "text/html": [
       "<div>\n",
       "<style scoped>\n",
       "    .dataframe tbody tr th:only-of-type {\n",
       "        vertical-align: middle;\n",
       "    }\n",
       "\n",
       "    .dataframe tbody tr th {\n",
       "        vertical-align: top;\n",
       "    }\n",
       "\n",
       "    .dataframe thead th {\n",
       "        text-align: right;\n",
       "    }\n",
       "</style>\n",
       "<table border=\"1\" class=\"dataframe\">\n",
       "  <thead>\n",
       "    <tr style=\"text-align: right;\">\n",
       "      <th></th>\n",
       "      <th>feature</th>\n",
       "      <th>importance</th>\n",
       "    </tr>\n",
       "  </thead>\n",
       "  <tbody>\n",
       "    <tr>\n",
       "      <th>7</th>\n",
       "      <td>Online_boarding</td>\n",
       "      <td>0.254339</td>\n",
       "    </tr>\n",
       "    <tr>\n",
       "      <th>2</th>\n",
       "      <td>Inflight_wifi_service</td>\n",
       "      <td>0.165130</td>\n",
       "    </tr>\n",
       "    <tr>\n",
       "      <th>24</th>\n",
       "      <td>Class_Business</td>\n",
       "      <td>0.083853</td>\n",
       "    </tr>\n",
       "    <tr>\n",
       "      <th>22</th>\n",
       "      <td>Type_of_Travel_Business_travel</td>\n",
       "      <td>0.054746</td>\n",
       "    </tr>\n",
       "    <tr>\n",
       "      <th>23</th>\n",
       "      <td>Type_of_Travel_Personal_Travel</td>\n",
       "      <td>0.050953</td>\n",
       "    </tr>\n",
       "    <tr>\n",
       "      <th>9</th>\n",
       "      <td>Inflight_entertainment</td>\n",
       "      <td>0.049428</td>\n",
       "    </tr>\n",
       "    <tr>\n",
       "      <th>25</th>\n",
       "      <td>Class_Eco</td>\n",
       "      <td>0.029262</td>\n",
       "    </tr>\n",
       "    <tr>\n",
       "      <th>8</th>\n",
       "      <td>Seat_comfort</td>\n",
       "      <td>0.027693</td>\n",
       "    </tr>\n",
       "    <tr>\n",
       "      <th>0</th>\n",
       "      <td>Age</td>\n",
       "      <td>0.025448</td>\n",
       "    </tr>\n",
       "    <tr>\n",
       "      <th>4</th>\n",
       "      <td>Ease_of_Online_booking</td>\n",
       "      <td>0.025273</td>\n",
       "    </tr>\n",
       "    <tr>\n",
       "      <th>1</th>\n",
       "      <td>Flight_Distance</td>\n",
       "      <td>0.024105</td>\n",
       "    </tr>\n",
       "    <tr>\n",
       "      <th>13</th>\n",
       "      <td>Checkin_service</td>\n",
       "      <td>0.024087</td>\n",
       "    </tr>\n",
       "    <tr>\n",
       "      <th>11</th>\n",
       "      <td>Leg_room_service</td>\n",
       "      <td>0.020677</td>\n",
       "    </tr>\n",
       "    <tr>\n",
       "      <th>21</th>\n",
       "      <td>Customer_Type_disloyal_Customer</td>\n",
       "      <td>0.020674</td>\n",
       "    </tr>\n",
       "    <tr>\n",
       "      <th>14</th>\n",
       "      <td>Inflight_service</td>\n",
       "      <td>0.020001</td>\n",
       "    </tr>\n",
       "    <tr>\n",
       "      <th>20</th>\n",
       "      <td>Customer_Type_Loyal_Customer</td>\n",
       "      <td>0.019621</td>\n",
       "    </tr>\n",
       "    <tr>\n",
       "      <th>12</th>\n",
       "      <td>Baggage_handling</td>\n",
       "      <td>0.018968</td>\n",
       "    </tr>\n",
       "    <tr>\n",
       "      <th>10</th>\n",
       "      <td>Onboard_service</td>\n",
       "      <td>0.016243</td>\n",
       "    </tr>\n",
       "    <tr>\n",
       "      <th>15</th>\n",
       "      <td>Cleanliness</td>\n",
       "      <td>0.015811</td>\n",
       "    </tr>\n",
       "    <tr>\n",
       "      <th>5</th>\n",
       "      <td>Gate_location</td>\n",
       "      <td>0.015104</td>\n",
       "    </tr>\n",
       "    <tr>\n",
       "      <th>17</th>\n",
       "      <td>Arrival_Delay_in_Minutes</td>\n",
       "      <td>0.009789</td>\n",
       "    </tr>\n",
       "    <tr>\n",
       "      <th>3</th>\n",
       "      <td>Departure_Arrival_time_convenient</td>\n",
       "      <td>0.009527</td>\n",
       "    </tr>\n",
       "    <tr>\n",
       "      <th>16</th>\n",
       "      <td>Departure_Delay_in_Minutes</td>\n",
       "      <td>0.008177</td>\n",
       "    </tr>\n",
       "    <tr>\n",
       "      <th>6</th>\n",
       "      <td>Food_and_drink</td>\n",
       "      <td>0.006190</td>\n",
       "    </tr>\n",
       "    <tr>\n",
       "      <th>19</th>\n",
       "      <td>Gender_Male</td>\n",
       "      <td>0.001828</td>\n",
       "    </tr>\n",
       "    <tr>\n",
       "      <th>18</th>\n",
       "      <td>Gender_Female</td>\n",
       "      <td>0.001778</td>\n",
       "    </tr>\n",
       "    <tr>\n",
       "      <th>26</th>\n",
       "      <td>Class_Eco_Plus</td>\n",
       "      <td>0.001297</td>\n",
       "    </tr>\n",
       "  </tbody>\n",
       "</table>\n",
       "</div>"
      ],
      "text/plain": [
       "                              feature  importance\n",
       "7                     Online_boarding    0.254339\n",
       "2               Inflight_wifi_service    0.165130\n",
       "24                     Class_Business    0.083853\n",
       "22     Type_of_Travel_Business_travel    0.054746\n",
       "23     Type_of_Travel_Personal_Travel    0.050953\n",
       "9              Inflight_entertainment    0.049428\n",
       "25                          Class_Eco    0.029262\n",
       "8                        Seat_comfort    0.027693\n",
       "0                                 Age    0.025448\n",
       "4              Ease_of_Online_booking    0.025273\n",
       "1                     Flight_Distance    0.024105\n",
       "13                    Checkin_service    0.024087\n",
       "11                   Leg_room_service    0.020677\n",
       "21    Customer_Type_disloyal_Customer    0.020674\n",
       "14                   Inflight_service    0.020001\n",
       "20       Customer_Type_Loyal_Customer    0.019621\n",
       "12                   Baggage_handling    0.018968\n",
       "10                    Onboard_service    0.016243\n",
       "15                        Cleanliness    0.015811\n",
       "5                       Gate_location    0.015104\n",
       "17           Arrival_Delay_in_Minutes    0.009789\n",
       "3   Departure_Arrival_time_convenient    0.009527\n",
       "16         Departure_Delay_in_Minutes    0.008177\n",
       "6                      Food_and_drink    0.006190\n",
       "19                        Gender_Male    0.001828\n",
       "18                      Gender_Female    0.001778\n",
       "26                     Class_Eco_Plus    0.001297"
      ]
     },
     "execution_count": 50,
     "metadata": {},
     "output_type": "execute_result"
    }
   ],
   "source": [
    "pd.DataFrame(\n",
    "    zip(X.columns, model.feature_importances_),\n",
    "    columns = [\"feature\", \"importance\"]\n",
    ").sort_values(\n",
    "    by = \"importance\",\n",
    "    key = lambda x: abs(x),\n",
    "    ascending = False\n",
    ")"
   ]
  },
  {
   "cell_type": "markdown",
   "id": "7ad546c1",
   "metadata": {},
   "source": [
    "# Summary of Model Performances (on Test Set) {-}"
   ]
  },
  {
   "cell_type": "markdown",
   "id": "53cb8065",
   "metadata": {},
   "source": [
    "* Format is {Model Name}: {Accuracy}, {Precision}\n",
    "\n",
    "* Forward Selection: 78.07, 98.97\n",
    "* Logistic Regression: 86.27, 93.86\n",
    "* Decision Tree: 95.60, 96.48\n",
    "* Bagging (Logistic Regression): 78.05, 90.07\n",
    "* Bagging (Decision Tree): 94.62, 99.67\n",
    "* Random Forest: 94.36, 99.90"
   ]
  },
  {
   "cell_type": "code",
   "execution_count": null,
   "id": "7adc8045",
   "metadata": {},
   "outputs": [],
   "source": []
  }
 ],
 "metadata": {
  "kernelspec": {
   "display_name": "Python 3 (ipykernel)",
   "language": "python",
   "name": "python3"
  },
  "language_info": {
   "codemirror_mode": {
    "name": "ipython",
    "version": 3
   },
   "file_extension": ".py",
   "mimetype": "text/x-python",
   "name": "python",
   "nbconvert_exporter": "python",
   "pygments_lexer": "ipython3",
   "version": "3.9.7"
  }
 },
 "nbformat": 4,
 "nbformat_minor": 5
}
