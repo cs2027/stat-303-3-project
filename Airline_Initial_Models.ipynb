{
 "cells": [
  {
   "cell_type": "code",
   "execution_count": 105,
   "id": "60f6ba3b",
   "metadata": {},
   "outputs": [],
   "source": [
    "import pandas as pd\n",
    "import numpy as np\n",
    "import seaborn as sns\n",
    "import matplotlib.pyplot as plt\n",
    "from sklearn.metrics import mean_squared_error\n",
    "from sklearn.model_selection import cross_val_score,train_test_split, KFold, GridSearchCV, ParameterGrid, StratifiedKFold\n",
    "from sklearn.metrics import mean_squared_error,r2_score,roc_curve,auc,precision_recall_curve\n",
    "from sklearn.model_selection import KFold, StratifiedKFold\n",
    "from sklearn.tree import DecisionTreeRegressor,DecisionTreeClassifier\n",
    "from sklearn.model_selection import GridSearchCV, ParameterGrid\n",
    "from sklearn.ensemble import GradientBoostingRegressor,GradientBoostingClassifier, BaggingRegressor,BaggingClassifier,RandomForestRegressor,RandomForestClassifier,AdaBoostRegressor,AdaBoostClassifier\n",
    "from sklearn.linear_model import LinearRegression,LogisticRegression\n",
    "from sklearn.neighbors import KNeighborsRegressor\n",
    "from sklearn.tree import export_graphviz\n",
    "from six import StringIO\n",
    "from IPython.display import Image\n",
    "import pydotplus\n",
    "import time as time\n",
    "import itertools as it\n",
    "\n",
    "import statsmodels.formula.api as sm\n",
    "from collections import OrderedDict\n"
   ]
  },
  {
   "cell_type": "code",
   "execution_count": 204,
   "id": "0168df29",
   "metadata": {},
   "outputs": [],
   "source": [
    "import warnings\n",
    "warnings.filterwarnings('ignore')\n",
    "warnings.simplefilter('ignore')"
   ]
  },
  {
   "cell_type": "markdown",
   "id": "8d776f80",
   "metadata": {},
   "source": [
    "## Data Prep"
   ]
  },
  {
   "cell_type": "code",
   "execution_count": 236,
   "id": "e9da09d5",
   "metadata": {},
   "outputs": [],
   "source": [
    "train = pd.read_csv(\"data/train.csv\")\n",
    "test = pd.read_csv(\"data/test.csv\")"
   ]
  },
  {
   "cell_type": "code",
   "execution_count": 238,
   "id": "c92438ca",
   "metadata": {},
   "outputs": [],
   "source": [
    "train = train.rename(columns={\"On-board service\": \"Onboard_service\"})\n",
    "test = test.rename(columns={\"On-board service\": \"Onboard_service\"})"
   ]
  },
  {
   "cell_type": "code",
   "execution_count": 240,
   "id": "338b0ef8",
   "metadata": {},
   "outputs": [],
   "source": [
    "#encode satisfaciton column values to 0 for dissatisfied and 1 for satisfied\n",
    "train[\"satisfaction\"] = train[\"satisfaction\"].replace(['neutral or dissatisfied'], '0')\n",
    "train[\"satisfaction\"] = train[\"satisfaction\"].replace(['satisfied'], '1')\n",
    "\n",
    "test[\"satisfaction\"] = test[\"satisfaction\"].replace(['neutral or dissatisfied'], '0')\n",
    "test[\"satisfaction\"] = test[\"satisfaction\"].replace(['satisfied'], '1')\n",
    "\n",
    "#make dummy for categorical variables\n",
    "train_dummies = pd.get_dummies(train[[\"Gender\", \"Customer Type\", \"Type of Travel\", \"Class\"]])\n",
    "train = pd.concat([train, train_dummies], axis=1)\n",
    "train = train.drop(columns=[\"Gender\", \"Customer Type\", \"Type of Travel\", \"Class\"])\n",
    "\n",
    "test_dummies = pd.get_dummies(test[[\"Gender\", \"Customer Type\", \"Type of Travel\", \"Class\"]])\n",
    "test = pd.concat([test, test_dummies], axis=1)\n",
    "test = test.drop(columns=[\"Gender\", \"Customer Type\", \"Type of Travel\", \"Class\"])\n",
    "\n",
    "#drop na\n",
    "train = train.dropna()\n",
    "test = test.dropna()\n",
    "\n",
    "train = train.drop(columns=[\"Unnamed: 0\", \"id\"])\n",
    "test = test.drop(columns=[\"Unnamed: 0\", \"id\"])"
   ]
  },
  {
   "cell_type": "code",
   "execution_count": 241,
   "id": "bb3d0405",
   "metadata": {},
   "outputs": [],
   "source": [
    "train.columns = train.columns.str.replace(' ', '_')\n",
    "train.columns = train.columns.str.replace('/', '_')\n",
    "\n",
    "test.columns = test.columns.str.replace(' ', '_')\n",
    "test.columns = test.columns.str.replace('/', '_')\n",
    "\n",
    "test.columns = test.columns.str.replace('-', '_')\n",
    "test.columns = test.columns.str.replace('-', '_')"
   ]
  },
  {
   "cell_type": "code",
   "execution_count": 242,
   "id": "004f4ce1",
   "metadata": {},
   "outputs": [],
   "source": [
    "train[\"satisfaction\"] = train[\"satisfaction\"].astype(int)\n",
    "test[\"satisfaction\"] = test[\"satisfaction\"].astype(int)"
   ]
  },
  {
   "cell_type": "code",
   "execution_count": 243,
   "id": "63513715",
   "metadata": {},
   "outputs": [],
   "source": [
    "X = train.drop(columns=[\"satisfaction\"])\n",
    "y = train[\"satisfaction\"]\n",
    "\n",
    "Xtest = test.drop(columns=[\"satisfaction\"])\n",
    "ytest = test[\"satisfaction\"]"
   ]
  },
  {
   "cell_type": "markdown",
   "id": "fc6e9215",
   "metadata": {},
   "source": [
    "## Linear Models (303-2 Models)"
   ]
  },
  {
   "cell_type": "code",
   "execution_count": null,
   "id": "3b89dafc",
   "metadata": {},
   "outputs": [],
   "source": [
    "#Function to compute confusion matrix and prediction accuracy on test/train data\n",
    "def confusion_matrix_data(data,actual_values,model,cutoff=0.5):\n",
    "    #Predict the values using the Logit model\n",
    "    pred_values = model.predict_proba(data)[:,1]\n",
    "    # Specify the bins\n",
    "    bins=np.array([0,cutoff,1])\n",
    "    #Confusion matrix\n",
    "    cm = np.histogram2d(actual_values, pred_values, bins=bins)[0]\n",
    "    cm_df = pd.DataFrame(cm)\n",
    "    cm_df.columns = ['Predicted 0','Predicted 1']\n",
    "    cm_df = cm_df.rename(index={0: 'Actual 0',1:'Actual 1'})\n",
    "    # Calculate the accuracy\n",
    "    accuracy = 100*(cm[0,0]+cm[1,1])/cm.sum()\n",
    "    fnr = 100*(cm[1,0])/(cm[1,0]+cm[1,1])\n",
    "    precision = 100*(cm[1,1])/(cm[0,1]+cm[1,1])\n",
    "    fpr = 100*(cm[0,1])/(cm[0,0]+cm[0,1])\n",
    "    tpr = 100*(cm[1,1])/(cm[1,0]+cm[1,1])\n",
    "    print(\"Accuracy = \", accuracy)\n",
    "    print(\"Precision = \", precision)\n",
    "    print(\"FNR = \", fnr)\n",
    "    print(\"FPR = \", fpr)\n",
    "    print(\"TPR or Recall = \", tpr)\n",
    "    print(\"Confusion matrix = \\n\", cm_df)\n",
    "    return (\" \")"
   ]
  },
  {
   "cell_type": "markdown",
   "id": "0b2d92a8",
   "metadata": {},
   "source": [
    "### Forward Selection"
   ]
  },
  {
   "cell_type": "code",
   "execution_count": null,
   "id": "1dba127e",
   "metadata": {},
   "outputs": [],
   "source": [
    "#Function to compute confusion matrix and prediction accuracy on test data\n",
    "def confusion_matrix(data, actual_values, model, cutoff = 0.5):\n",
    "    #Predict the values using the Logit model\n",
    "    pred_values = model.predict(data)\n",
    "    # Specify the bins\n",
    "    bins = np.array([0, cutoff, 1])\n",
    "    # Confusion matrix\n",
    "    cm = np.histogram2d(actual_values, pred_values, bins = bins)[0]\n",
    "    cm_df = pd.DataFrame(cm)\n",
    "    cm_df.columns = ['Predicted 0','Predicted 1']\n",
    "    cm_df = cm_df.rename(index = {0: 'Actual 0', 1: 'Actual 1'})\n",
    "    # Calculate the accuracy\n",
    "    accuracy = 100 * (cm[0, 0] + cm[1, 1]) / cm.sum()\n",
    "    # Return the confusion matrix and the accuracy\n",
    "    return cm_df, accuracy"
   ]
  },
  {
   "cell_type": "code",
   "execution_count": null,
   "id": "397330f2",
   "metadata": {},
   "outputs": [],
   "source": [
    "#Function to develop a model based on all predictors in predictor_subset\n",
    "def processSubset(predictor_subset):\n",
    "    # Fit model on feature_set and calculate R-squared\n",
    "    model = sm.logit('satisfaction ~ ' + '+'.join(predictor_subset), data = train).fit(disp=0)\n",
    "    Accuracy = confusion_matrix(train, train.satisfaction, model)[1]\n",
    "    return {\"model\": model, \"Accuracy\": Accuracy}"
   ]
  },
  {
   "cell_type": "code",
   "execution_count": null,
   "id": "8f3b2ff6",
   "metadata": {},
   "outputs": [],
   "source": [
    "#Function to find the best predictor out of p-k predictors and add it to the model containing the k predictors\n",
    "def forward(predictors):\n",
    "    # Pull out predictors we still need to process\n",
    "    remaining_predictors = [p for p in X.columns if p not in predictors]\n",
    "    tic = time.time()\n",
    "    results = []\n",
    "    for p in remaining_predictors:\n",
    "        results.append(processSubset(predictors+[p]))\n",
    "        \n",
    "    # Wrap everything up in a nice dataframe\n",
    "    models = pd.DataFrame(results)\n",
    "    \n",
    "    # Choose the model with the highest Accuracy\n",
    "    best_model = models.loc[models['Accuracy'].argmax()]\n",
    "    toc = time.time()\n",
    "    print(\"Processed \", models.shape[0], \"models on\", len(predictors)+1,\"predictors in\", (toc-tic), \"seconds.\")\n",
    "    # Return the best model, along with some other useful information about the model\n",
    "    return best_model"
   ]
  },
  {
   "cell_type": "code",
   "execution_count": null,
   "id": "bd2a2392",
   "metadata": {},
   "outputs": [],
   "source": [
    "def forward_selection():\n",
    "    models_best = pd.DataFrame(columns = [\"Accuracy\", \"model\"])\n",
    "    tic = time.time()\n",
    "    predictors = []\n",
    "    for i in range(1, len(X.columns)+1):\n",
    "        models_best.loc[i] = forward(predictors)\n",
    "        predictors = list(models_best.loc[i][\"model\"].params.index[1:])\n",
    "        # Extra handling for qualitative variables\n",
    "        for i in range(len(predictors)):\n",
    "            predictors[i] = predictors[i].split('[')[0]\n",
    "        # Removing duplicates\n",
    "        predictors = list(OrderedDict.fromkeys(predictors))\n",
    "    toc = time.time()\n",
    "    print(\"Total elapsed time:\", (toc-tic), \"seconds.\")\n",
    "    return models_best"
   ]
  },
  {
   "cell_type": "code",
   "execution_count": 247,
   "id": "a72b9925",
   "metadata": {},
   "outputs": [],
   "source": [
    "def best_sub_plots(models_best):\n",
    "    plt.figure(figsize = (20,15))\n",
    "    plt.rcParams.update({'font.size': 18, 'lines.markersize': 10})\n",
    "    # Set up a 2x2 grid so we can look at 4 plots at once\n",
    "    plt.subplot(3, 2, 1)\n",
    "    # We will now plot a red dot to indicate the model with the largest training Accuracy statistic.\n",
    "    plt.plot(models_best[\"Accuracy\"])\n",
    "    plt.plot(1 + models_best[\"Accuracy\"].argmax(), models_best[\"Accuracy\"].max(), \"or\")\n",
    "    plt.xlabel('# Predictors')\n",
    "    plt.ylabel('Training Accuracy')\n",
    "    plt.text(1 + models_best[\"Accuracy\"].argmax(), models_best[\"Accuracy\"].max(), str(1 + models_best[\"Accuracy\"].argmax()),\n",
    "            verticalalignment='bottom', horizontalalignment='right')\n",
    "    \n",
    "    # We will now plot a red dot to indicate the model with the smallest training FNR statistic.\n",
    "    models_best['FNR'] = models_best.apply(lambda row: fnr(confusion_matrix(train, train.satisfaction, row[1])), axis=1)\n",
    "    plt.subplot(3, 2, 2)\n",
    "    plt.plot(models_best['FNR'])\n",
    "    plt.plot(1 + models_best['FNR'].argmin(), models_best['FNR'].min(), \"or\")\n",
    "    plt.xlabel('# Predictors')\n",
    "    plt.ylabel('Training FNR')\n",
    "    plt.text(1 + models_best['FNR'].argmin(), models_best['FNR'].min(), str(1 + models_best['FNR'].argmin()),\n",
    "            verticalalignment='bottom', horizontalalignment='right')\n",
    "    \n",
    "    # We will now plot a red dot to indicate the model with the largest testing Accuracy statistic.\n",
    "    models_best['TestingAccuracy'] = models_best.apply(lambda row: confusion_matrix(test, test.satisfaction, row[1])[1], axis=1)\n",
    "    plt.subplot(3, 2, 3)\n",
    "    plt.plot(models_best['TestingAccuracy'])\n",
    "    plt.plot(1+models_best['TestingAccuracy'].argmax(), models_best['TestingAccuracy'].max(), \"or\")\n",
    "    plt.xlabel('# Predictors')\n",
    "    plt.ylabel('Testing Accuracy')\n",
    "    plt.text(1+models_best['TestingAccuracy'].argmax(), models_best['TestingAccuracy'].max(), str(1+models_best['TestingAccuracy'].argmax()),\n",
    "            verticalalignment='bottom', horizontalalignment='right')\n",
    "    \n",
    "    # We will now plot a red dot to indicate the model with the smallest testing FNR statistic.\n",
    "    models_best['TestingFNR'] = models_best.apply(lambda row: fnr(confusion_matrix(test, test.satisfaction, row[1])), axis=1)\n",
    "    plt.subplot(3, 2, 4)\n",
    "    plt.plot(models_best['TestingFNR'])\n",
    "    plt.plot(1 + models_best['TestingFNR'].argmin(), models_best['TestingFNR'].min(), \"or\")\n",
    "    plt.xlabel('# Predictors')\n",
    "    plt.ylabel('Testing FNR')\n",
    "    plt.text(1 + models_best['TestingFNR'].argmin(), models_best['TestingFNR'].min(), str(1 + models_best['TestingFNR'].argmin()),\n",
    "            verticalalignment='bottom', horizontalalignment='right')\n",
    "    \n",
    "    # Minimum accuracy\n",
    "    models_best['MinAccuracy'] = models_best[['Accuracy', 'TestingAccuracy']].min(axis = 1)\n",
    "    plt.subplot(3, 2, 5)\n",
    "    plt.plot(models_best[\"MinAccuracy\"], color = \"orange\")\n",
    "    plt.plot(1 + models_best[\"MinAccuracy\"].argmax(), models_best[\"MinAccuracy\"].max(), \"or\")\n",
    "    plt.xlabel('# Predictors')\n",
    "    plt.ylabel('Minimum Accuracy')\n",
    "    plt.text(1 + models_best[\"MinAccuracy\"].argmax(), models_best[\"MinAccuracy\"].max(), str(1 + models_best[\"MinAccuracy\"].argmax()),\n",
    "            verticalalignment='bottom', horizontalalignment='right')\n",
    "    \n",
    "    # Maximum FNR\n",
    "    models_best['MaxFNR'] = models_best[['FNR', 'TestingFNR']].max(axis = 1)\n",
    "    plt.subplot(3, 2, 6)\n",
    "    plt.plot(models_best['MaxFNR'], color = \"orange\")\n",
    "    plt.plot(1 + models_best['MaxFNR'].argmin(), models_best['MaxFNR'].min(), \"or\")\n",
    "    plt.xlabel('# Predictors')\n",
    "    plt.ylabel('Maximum FNR')\n",
    "    plt.text(1 + models_best['MaxFNR'].argmin(), models_best['MaxFNR'].min(), str(1 + models_best['MaxFNR'].argmin()),\n",
    "            verticalalignment='bottom', horizontalalignment='right')\n",
    "    "
   ]
  },
  {
   "cell_type": "code",
   "execution_count": 205,
   "id": "9fc2aa71",
   "metadata": {},
   "outputs": [
    {
     "name": "stdout",
     "output_type": "stream",
     "text": [
      "Processed  27 models on 1 predictors in 1.174184799194336 seconds.\n",
      "Processed  26 models on 2 predictors in 1.4187240600585938 seconds.\n",
      "Processed  25 models on 3 predictors in 1.7550790309906006 seconds.\n",
      "Processed  24 models on 4 predictors in 1.9309959411621094 seconds.\n",
      "Processed  23 models on 5 predictors in 4.01934289932251 seconds.\n",
      "Processed  22 models on 6 predictors in 4.507567882537842 seconds.\n",
      "Processed  21 models on 7 predictors in 4.746961832046509 seconds.\n",
      "Processed  20 models on 8 predictors in 4.576616048812866 seconds.\n",
      "Processed  19 models on 9 predictors in 3.8457159996032715 seconds.\n",
      "Processed  18 models on 10 predictors in 4.763843059539795 seconds.\n",
      "Processed  17 models on 11 predictors in 4.694478750228882 seconds.\n",
      "Processed  16 models on 12 predictors in 4.697351932525635 seconds.\n",
      "Processed  15 models on 13 predictors in 3.511518955230713 seconds.\n",
      "Processed  14 models on 14 predictors in 3.75240421295166 seconds.\n",
      "Processed  13 models on 15 predictors in 4.118559122085571 seconds.\n",
      "Processed  12 models on 16 predictors in 3.841944932937622 seconds.\n",
      "Processed  11 models on 17 predictors in 3.2321219444274902 seconds.\n",
      "Processed  10 models on 18 predictors in 3.4273359775543213 seconds.\n",
      "Processed  9 models on 19 predictors in 2.8944692611694336 seconds.\n",
      "Processed  8 models on 20 predictors in 2.331594944000244 seconds.\n",
      "Processed  7 models on 21 predictors in 2.0693359375 seconds.\n",
      "Processed  6 models on 22 predictors in 2.1689441204071045 seconds.\n",
      "Processed  5 models on 23 predictors in 2.144124984741211 seconds.\n",
      "Processed  4 models on 24 predictors in 1.8222739696502686 seconds.\n",
      "Processed  3 models on 25 predictors in 1.7374789714813232 seconds.\n",
      "Processed  2 models on 26 predictors in 1.4019699096679688 seconds.\n",
      "Processed  1 models on 27 predictors in 0.47325611114501953 seconds.\n",
      "Total elapsed time: 81.4109787940979 seconds.\n"
     ]
    }
   ],
   "source": [
    "models_best = forward_selection()"
   ]
  },
  {
   "cell_type": "code",
   "execution_count": 248,
   "id": "b4e1bd90",
   "metadata": {},
   "outputs": [
    {
     "data": {
      "image/png": "[encoded data removed]",
      "text/plain": [
       "<Figure size 1440x1080 with 6 Axes>"
      ]
     },
     "metadata": {
      "needs_background": "light"
     },
     "output_type": "display_data"
    }
   ],
   "source": [
    "def fnr(matrix):\n",
    "    return matrix[0].loc['Actual 1', 'Predicted 0'] / (matrix[0].loc['Actual 1', 'Predicted 0'] + matrix[0].loc['Actual 1', 'Predicted 1'])\n",
    "\n",
    "best_sub_plots(models_best)"
   ]
  },
  {
   "cell_type": "code",
   "execution_count": 249,
   "id": "46c3ead5",
   "metadata": {},
   "outputs": [
    {
     "data": {
      "text/html": [
       "<table class=\"simpletable\">\n",
       "<caption>Logit Regression Results</caption>\n",
       "<tr>\n",
       "  <th>Dep. Variable:</th>     <td>satisfaction</td>   <th>  No. Observations:  </th>  <td>103594</td> \n",
       "</tr>\n",
       "<tr>\n",
       "  <th>Model:</th>                 <td>Logit</td>      <th>  Df Residuals:      </th>  <td>103577</td> \n",
       "</tr>\n",
       "<tr>\n",
       "  <th>Method:</th>                 <td>MLE</td>       <th>  Df Model:          </th>  <td>    16</td> \n",
       "</tr>\n",
       "<tr>\n",
       "  <th>Date:</th>            <td>Sat, 14 May 2022</td> <th>  Pseudo R-squ.:     </th>  <td>0.5096</td> \n",
       "</tr>\n",
       "<tr>\n",
       "  <th>Time:</th>                <td>14:05:01</td>     <th>  Log-Likelihood:    </th> <td> -34758.</td>\n",
       "</tr>\n",
       "<tr>\n",
       "  <th>converged:</th>             <td>True</td>       <th>  LL-Null:           </th> <td> -70884.</td>\n",
       "</tr>\n",
       "<tr>\n",
       "  <th>Covariance Type:</th>     <td>nonrobust</td>    <th>  LLR p-value:       </th>  <td> 0.000</td> \n",
       "</tr>\n",
       "</table>\n",
       "<table class=\"simpletable\">\n",
       "<tr>\n",
       "                  <td></td>                     <th>coef</th>     <th>std err</th>      <th>z</th>      <th>P>|z|</th>  <th>[0.025</th>    <th>0.975]</th>  \n",
       "</tr>\n",
       "<tr>\n",
       "  <th>Intercept</th>                         <td>   -6.7943</td> <td> 1.23e+06</td> <td>-5.52e-06</td> <td> 1.000</td> <td>-2.41e+06</td> <td> 2.41e+06</td>\n",
       "</tr>\n",
       "<tr>\n",
       "  <th>Online_boarding</th>                   <td>    0.5939</td> <td>    0.010</td> <td>   60.955</td> <td> 0.000</td> <td>    0.575</td> <td>    0.613</td>\n",
       "</tr>\n",
       "<tr>\n",
       "  <th>Type_of_Travel_Business_travel</th>    <td>   -2.0521</td> <td> 1.23e+06</td> <td>-1.67e-06</td> <td> 1.000</td> <td>-2.41e+06</td> <td> 2.41e+06</td>\n",
       "</tr>\n",
       "<tr>\n",
       "  <th>Inflight_wifi_service</th>             <td>    0.3201</td> <td>    0.010</td> <td>   33.575</td> <td> 0.000</td> <td>    0.301</td> <td>    0.339</td>\n",
       "</tr>\n",
       "<tr>\n",
       "  <th>Type_of_Travel_Personal_Travel</th>    <td>   -4.7423</td> <td> 1.23e+06</td> <td>-3.86e-06</td> <td> 1.000</td> <td>-2.41e+06</td> <td> 2.41e+06</td>\n",
       "</tr>\n",
       "<tr>\n",
       "  <th>Inflight_entertainment</th>            <td>    0.0756</td> <td>    0.012</td> <td>    6.071</td> <td> 0.000</td> <td>    0.051</td> <td>    0.100</td>\n",
       "</tr>\n",
       "<tr>\n",
       "  <th>Cleanliness</th>                       <td>    0.2543</td> <td>    0.011</td> <td>   22.839</td> <td> 0.000</td> <td>    0.232</td> <td>    0.276</td>\n",
       "</tr>\n",
       "<tr>\n",
       "  <th>Class_Eco_Plus</th>                    <td>   -0.1044</td> <td>    0.040</td> <td>   -2.639</td> <td> 0.008</td> <td>   -0.182</td> <td>   -0.027</td>\n",
       "</tr>\n",
       "<tr>\n",
       "  <th>Gate_location</th>                     <td>   -0.0056</td> <td>    0.009</td> <td>   -0.643</td> <td> 0.520</td> <td>   -0.023</td> <td>    0.011</td>\n",
       "</tr>\n",
       "<tr>\n",
       "  <th>Departure_Arrival_time_convenient</th> <td>   -0.1569</td> <td>    0.008</td> <td>  -19.941</td> <td> 0.000</td> <td>   -0.172</td> <td>   -0.142</td>\n",
       "</tr>\n",
       "<tr>\n",
       "  <th>Customer_Type_Loyal_Customer</th>      <td>    1.9807</td> <td>    0.028</td> <td>   71.568</td> <td> 0.000</td> <td>    1.926</td> <td>    2.035</td>\n",
       "</tr>\n",
       "<tr>\n",
       "  <th>Onboard_service</th>                   <td>    0.2943</td> <td>    0.010</td> <td>   29.344</td> <td> 0.000</td> <td>    0.275</td> <td>    0.314</td>\n",
       "</tr>\n",
       "<tr>\n",
       "  <th>Checkin_service</th>                   <td>    0.3284</td> <td>    0.008</td> <td>   38.792</td> <td> 0.000</td> <td>    0.312</td> <td>    0.345</td>\n",
       "</tr>\n",
       "<tr>\n",
       "  <th>Class_Business</th>                    <td>    0.7175</td> <td>    0.024</td> <td>   29.722</td> <td> 0.000</td> <td>    0.670</td> <td>    0.765</td>\n",
       "</tr>\n",
       "<tr>\n",
       "  <th>Leg_room_service</th>                  <td>    0.2455</td> <td>    0.008</td> <td>   29.022</td> <td> 0.000</td> <td>    0.229</td> <td>    0.262</td>\n",
       "</tr>\n",
       "<tr>\n",
       "  <th>Inflight_service</th>                  <td>    0.1255</td> <td>    0.012</td> <td>   10.604</td> <td> 0.000</td> <td>    0.102</td> <td>    0.149</td>\n",
       "</tr>\n",
       "<tr>\n",
       "  <th>Baggage_handling</th>                  <td>    0.1425</td> <td>    0.011</td> <td>   12.622</td> <td> 0.000</td> <td>    0.120</td> <td>    0.165</td>\n",
       "</tr>\n",
       "<tr>\n",
       "  <th>Arrival_Delay_in_Minutes</th>          <td>   -0.0048</td> <td>    0.000</td> <td>  -18.287</td> <td> 0.000</td> <td>   -0.005</td> <td>   -0.004</td>\n",
       "</tr>\n",
       "</table>"
      ],
      "text/plain": [
       "<class 'statsmodels.iolib.summary.Summary'>\n",
       "\"\"\"\n",
       "                           Logit Regression Results                           \n",
       "==============================================================================\n",
       "Dep. Variable:           satisfaction   No. Observations:               103594\n",
       "Model:                          Logit   Df Residuals:                   103577\n",
       "Method:                           MLE   Df Model:                           16\n",
       "Date:                Sat, 14 May 2022   Pseudo R-squ.:                  0.5096\n",
       "Time:                        14:05:01   Log-Likelihood:                -34758.\n",
       "converged:                       True   LL-Null:                       -70884.\n",
       "Covariance Type:            nonrobust   LLR p-value:                     0.000\n",
       "=====================================================================================================\n",
       "                                        coef    std err          z      P>|z|      [0.025      0.975]\n",
       "-----------------------------------------------------------------------------------------------------\n",
       "Intercept                            -6.7943   1.23e+06  -5.52e-06      1.000   -2.41e+06    2.41e+06\n",
       "Online_boarding                       0.5939      0.010     60.955      0.000       0.575       0.613\n",
       "Type_of_Travel_Business_travel       -2.0521   1.23e+06  -1.67e-06      1.000   -2.41e+06    2.41e+06\n",
       "Inflight_wifi_service                 0.3201      0.010     33.575      0.000       0.301       0.339\n",
       "Type_of_Travel_Personal_Travel       -4.7423   1.23e+06  -3.86e-06      1.000   -2.41e+06    2.41e+06\n",
       "Inflight_entertainment                0.0756      0.012      6.071      0.000       0.051       0.100\n",
       "Cleanliness                           0.2543      0.011     22.839      0.000       0.232       0.276\n",
       "Class_Eco_Plus                       -0.1044      0.040     -2.639      0.008      -0.182      -0.027\n",
       "Gate_location                        -0.0056      0.009     -0.643      0.520      -0.023       0.011\n",
       "Departure_Arrival_time_convenient    -0.1569      0.008    -19.941      0.000      -0.172      -0.142\n",
       "Customer_Type_Loyal_Customer          1.9807      0.028     71.568      0.000       1.926       2.035\n",
       "Onboard_service                       0.2943      0.010     29.344      0.000       0.275       0.314\n",
       "Checkin_service                       0.3284      0.008     38.792      0.000       0.312       0.345\n",
       "Class_Business                        0.7175      0.024     29.722      0.000       0.670       0.765\n",
       "Leg_room_service                      0.2455      0.008     29.022      0.000       0.229       0.262\n",
       "Inflight_service                      0.1255      0.012     10.604      0.000       0.102       0.149\n",
       "Baggage_handling                      0.1425      0.011     12.622      0.000       0.120       0.165\n",
       "Arrival_Delay_in_Minutes             -0.0048      0.000    -18.287      0.000      -0.005      -0.004\n",
       "=====================================================================================================\n",
       "\"\"\""
      ]
     },
     "execution_count": 249,
     "metadata": {},
     "output_type": "execute_result"
    }
   ],
   "source": [
    "# Determined by best minimum classification accuracy\n",
    "best_fwd_reg_model = models_best['model'][17]\n",
    "best_fwd_reg_model.summary()"
   ]
  },
  {
   "cell_type": "code",
   "execution_count": 47,
   "id": "4d82aaac",
   "metadata": {},
   "outputs": [
    {
     "name": "stdout",
     "output_type": "stream",
     "text": [
      "(          Predicted 0  Predicted 1\n",
      "Actual 0      14468.0         60.0\n",
      "Actual 1       5618.0       5747.0, 78.07129339976055)\n",
      "Precision: 0.9896676425004305\n"
     ]
    }
   ],
   "source": [
    "cf_test = confusion_matrix(Xtest, ytest, best_fwd_reg_model, 0.9)\n",
    "cm = cf_test[0]\n",
    "precision = cm['Predicted 1']['Actual 1'] / (cm['Predicted 1']['Actual 0'] + cm['Predicted 1']['Actual 1'])\n",
    "\n",
    "print(cf_test)\n",
    "print(\"Precision:\", precision)"
   ]
  },
  {
   "cell_type": "markdown",
   "id": "a542b864",
   "metadata": {},
   "source": [
    "### Accuracy on Test: 78.07%\n",
    "### Precision on Test: 98.97%"
   ]
  },
  {
   "cell_type": "markdown",
   "id": "0efb78eb",
   "metadata": {},
   "source": [
    "### Logistic Regression "
   ]
  },
  {
   "cell_type": "code",
   "execution_count": 69,
   "id": "18dc7b58",
   "metadata": {},
   "outputs": [],
   "source": [
    "def plot_precision_recall_vs_threshold(precisions, recalls, thresholds):\n",
    "    plt.figure(figsize=(8, 8))\n",
    "    plt.title(\"Precision and Recall Scores as a function of the decision threshold\")\n",
    "    plt.plot(thresholds, precisions[:-1], \"b--\", label=\"Precision\")\n",
    "    plt.plot(thresholds, recalls[:-1], \"g-\", label=\"Recall\")\n",
    "    plt.ylabel(\"Score\")\n",
    "    plt.xlabel(\"Decision Threshold\")\n",
    "    plt.legend(loc='best')"
   ]
  },
  {
   "cell_type": "code",
   "execution_count": 56,
   "id": "3e9ca57d",
   "metadata": {},
   "outputs": [
    {
     "name": "stdout",
     "output_type": "stream",
     "text": [
      "Fitting 5 folds for each of 75 candidates, totalling 375 fits\n"
     ]
    },
    {
     "data": {
      "text/plain": [
       "GridSearchCV(cv=KFold(n_splits=5, random_state=1, shuffle=True),\n",
       "             estimator=LogisticRegression(random_state=1), n_jobs=-1,\n",
       "             param_grid={'C': array([1.e-02, 1.e-01, 1.e+00, 1.e+01, 1.e+02]),\n",
       "                         'penalty': ['l1', 'l2', 'elasticnet'],\n",
       "                         'solver': ['newton-cg', 'lbfgs', 'liblinear', 'sag',\n",
       "                                    'saga']},\n",
       "             verbose=1)"
      ]
     },
     "execution_count": 56,
     "metadata": {},
     "output_type": "execute_result"
    }
   ],
   "source": [
    "parameters = {\n",
    "    \"penalty\": ['l1', 'l2', 'elasticnet'],\n",
    "    \"C\": np.geomspace(0.01, 100, 5),\n",
    "    \"solver\": ['newton-cg', 'lbfgs', 'liblinear', 'sag', 'saga']\n",
    "}\n",
    "\n",
    "cv = KFold(n_splits = 5, shuffle = True, random_state = 1)\n",
    "model = GridSearchCV(\n",
    "    LogisticRegression(random_state = 1),\n",
    "    parameters,\n",
    "    n_jobs = -1,\n",
    "    verbose = 1,\n",
    "    cv = cv\n",
    ")\n",
    "\n",
    "model.fit(X, y)"
   ]
  },
  {
   "cell_type": "code",
   "execution_count": 57,
   "id": "ec915e97",
   "metadata": {},
   "outputs": [
    {
     "data": {
      "text/plain": [
       "{'C': 0.01, 'penalty': 'l2', 'solver': 'newton-cg'}"
      ]
     },
     "execution_count": 57,
     "metadata": {},
     "output_type": "execute_result"
    }
   ],
   "source": [
    "model.best_params_"
   ]
  },
  {
   "cell_type": "code",
   "execution_count": 75,
   "id": "dd2dcabc",
   "metadata": {},
   "outputs": [
    {
     "name": "stdout",
     "output_type": "stream",
     "text": [
      "Accuracy =  86.27042057698992\n",
      "Precision =  93.85669362084457\n",
      "FNR =  26.467223933128025\n",
      "FPR =  3.765143171806167\n",
      "TPR or Recall =  73.53277606687197\n",
      "Confusion matrix = \n",
      "           Predicted 0  Predicted 1\n",
      "Actual 0      13981.0        547.0\n",
      "Actual 1       3008.0       8357.0\n",
      " \n"
     ]
    }
   ],
   "source": [
    "model_updated = LogisticRegression(\n",
    "    C = 0.01, penalty = 'l2', solver = 'newton-cg'\n",
    ").fit(X, y)\n",
    "\n",
    "print(confusion_matrix_data(Xtest,ytest,model_updated,cutoff=0.7))"
   ]
  },
  {
   "cell_type": "markdown",
   "id": "4198b9f2",
   "metadata": {},
   "source": [
    "### Accuracy on Test: 86.27%\n",
    "### Precision on Test: 93.86%"
   ]
  },
  {
   "cell_type": "markdown",
   "id": "9e576b49",
   "metadata": {},
   "source": [
    "## Non-Linear Models (303-3 Models)"
   ]
  },
  {
   "cell_type": "markdown",
   "id": "fc9b3694",
   "metadata": {},
   "source": [
    "### Basic Decision Tree"
   ]
  },
  {
   "cell_type": "code",
   "execution_count": 110,
   "id": "8febd1a0",
   "metadata": {},
   "outputs": [
    {
     "name": "stdout",
     "output_type": "stream",
     "text": [
      "Fitting 5 folds for each of 9 candidates, totalling 45 fits\n"
     ]
    },
    {
     "data": {
      "text/plain": [
       "GridSearchCV(cv=KFold(n_splits=5, random_state=1, shuffle=True),\n",
       "             estimator=DecisionTreeClassifier(random_state=1), n_jobs=-1,\n",
       "             param_grid={'max_depth': [10, 25, 50],\n",
       "                         'max_leaf_nodes': [50, 100, 200]},\n",
       "             verbose=1)"
      ]
     },
     "execution_count": 110,
     "metadata": {},
     "output_type": "execute_result"
    }
   ],
   "source": [
    "parameters = {\n",
    "    'max_depth': [10, 25, 50],\n",
    "    'max_leaf_nodes': [50, 100, 200]\n",
    "}\n",
    "\n",
    "cv = KFold(n_splits = 5, shuffle = True, random_state = 1)\n",
    "model = GridSearchCV(\n",
    "    DecisionTreeClassifier(random_state = 1),\n",
    "    parameters,\n",
    "    n_jobs = -1,\n",
    "    verbose = 1,\n",
    "    cv = cv\n",
    ")\n",
    "\n",
    "model.fit(X, y)"
   ]
  },
  {
   "cell_type": "code",
   "execution_count": 111,
   "id": "d1ba3537",
   "metadata": {},
   "outputs": [
    {
     "data": {
      "text/plain": [
       "{'max_depth': 25, 'max_leaf_nodes': 200}"
      ]
     },
     "execution_count": 111,
     "metadata": {},
     "output_type": "execute_result"
    }
   ],
   "source": [
    "model.best_params_"
   ]
  },
  {
   "cell_type": "code",
   "execution_count": 112,
   "id": "686ca291",
   "metadata": {},
   "outputs": [
    {
     "name": "stdout",
     "output_type": "stream",
     "text": [
      "(          Predicted 0  Predicted 1\n",
      "Actual 0      14141.0        387.0\n",
      "Actual 1        753.0      10612.0, 95.59726567025837)\n",
      "Accuracy: 0.9559726567025837\n",
      "Precision: 0.9648149831802891\n"
     ]
    }
   ],
   "source": [
    "model_updated = DecisionTreeClassifier(\n",
    "    max_depth = 25, max_leaf_nodes = 200, random_state = 1\n",
    ").fit(X, y)\n",
    "\n",
    "cf_test = confusion_matrix(Xtest, ytest, model_updated, 0.9)\n",
    "cm = cf_test[0]\n",
    "accuracy = (cm['Predicted 0']['Actual 0'] + cm['Predicted 1']['Actual 1']) / (cm['Predicted 0'].sum() + cm['Predicted 1'].sum())\n",
    "precision = cm['Predicted 1']['Actual 1'] / (cm['Predicted 1']['Actual 0'] + cm['Predicted 1']['Actual 1'])\n",
    "\n",
    "print(cf_test)\n",
    "print(\"Accuracy:\", accuracy)\n",
    "print(\"Precision:\", precision)"
   ]
  },
  {
   "cell_type": "markdown",
   "id": "9a4310fa",
   "metadata": {},
   "source": [
    "### Accuracy on Test: 95.60%\n",
    "### Precision on Test: 96.48%"
   ]
  },
  {
   "cell_type": "markdown",
   "id": "0d0f0207",
   "metadata": {},
   "source": [
    "### Bagged Decision Tree Model"
   ]
  },
  {
   "cell_type": "code",
   "execution_count": 98,
   "id": "680888c3",
   "metadata": {},
   "outputs": [
    {
     "name": "stdout",
     "output_type": "stream",
     "text": [
      "Currently trying 10 estimators\n",
      "Currently trying 65 estimators\n",
      "Currently trying 121 estimators\n",
      "Currently trying 177 estimators\n",
      "Currently trying 232 estimators\n",
      "Currently trying 288 estimators\n",
      "Currently trying 344 estimators\n",
      "Currently trying 400 estimators\n"
     ]
    },
    {
     "data": {
      "text/plain": [
       "<matplotlib.legend.Legend at 0x7faf20ff93a0>"
      ]
     },
     "execution_count": 98,
     "metadata": {},
     "output_type": "execute_result"
    },
    {
     "data": {
      "image/png": "[encoded data removed]",
      "text/plain": [
       "<Figure size 640x480 with 1 Axes>"
      ]
     },
     "metadata": {
      "needs_background": "light"
     },
     "output_type": "display_data"
    }
   ],
   "source": [
    "oob_precision = {}\n",
    "\n",
    "for i in np.linspace(10, 400, 8, dtype = int):\n",
    "    print(f\"Currently trying {i} estimators\")\n",
    "    model = BaggingClassifier(\n",
    "        base_estimator = DecisionTreeClassifier(),\n",
    "        n_estimators = i, random_state = 1,\n",
    "        n_jobs = -1, oob_score = True\n",
    "    ).fit(X, y)\n",
    "    \n",
    "    oob_pred = model.oob_decision_function_[:,1]\n",
    "    bins = np.array([0,0.5,1])\n",
    "    cm = np.histogram2d(y, oob_pred, bins=bins)[0]\n",
    "    oob_precision[i] = 100*(cm[1,1])/(cm[0,1]+cm[1,1])\n",
    "    \n",
    "plt.rcParams.update({'font.size': 15})\n",
    "plt.figure(figsize=(8, 6), dpi=80)\n",
    "plt.plot(oob_precision.keys(),oob_precision.values(),label = 'Out of bag precision')\n",
    "plt.plot(oob_precision.keys(),oob_precision.values(),'o',color = 'blue')\n",
    "plt.xlabel('Number of trees')\n",
    "plt.ylabel('Precision')\n",
    "plt.legend()"
   ]
  },
  {
   "cell_type": "code",
   "execution_count": 102,
   "id": "33a49e3a",
   "metadata": {},
   "outputs": [
    {
     "name": "stdout",
     "output_type": "stream",
     "text": [
      "Currently trying 200 estimators\n",
      "Currently trying 225 estimators\n",
      "Currently trying 250 estimators\n",
      "Currently trying 275 estimators\n",
      "Currently trying 300 estimators\n",
      "Currently trying 325 estimators\n",
      "Currently trying 350 estimators\n",
      "Currently trying 375 estimators\n",
      "Currently trying 400 estimators\n",
      "-----------------------\n",
      "max precision =  97.0374280010097\n",
      "params=  (350,)\n"
     ]
    }
   ],
   "source": [
    "params = {\n",
    "    'n_estimators': range(200, 425, 25)\n",
    "}\n",
    "param_list = list(it.product(*(params[name] for name in params)))\n",
    "precision = [None for i in range(len(param_list))]\n",
    "\n",
    "for index, pr in enumerate(param_list):\n",
    "    print(f\"Currently trying {pr[0]} estimators\")\n",
    "    model = BaggingClassifier(\n",
    "        base_estimator = DecisionTreeClassifier(),\n",
    "        n_estimators = pr[0], random_state = 1,\n",
    "        n_jobs = -1, oob_score = True\n",
    "    ).fit(X, y)\n",
    "    \n",
    "    oob_pred = model.oob_decision_function_[:,1]\n",
    "    bins = np.array([0,0.5,1])\n",
    "    cm = np.histogram2d(y, oob_pred, bins=bins)[0]\n",
    "    precision[index] = 100*(cm[1,1])/(cm[0,1]+cm[1,1])\n",
    "\n",
    "print(\"-----------------------\")\n",
    "print(\"max precision = \", np.max(precision))\n",
    "print(\"params= \", param_list[np.argmax(precision)])"
   ]
  },
  {
   "cell_type": "code",
   "execution_count": 107,
   "id": "5cb61ce3",
   "metadata": {},
   "outputs": [],
   "source": [
    "model_updated = BaggingClassifier(\n",
    "    base_estimator = DecisionTreeClassifier(),\n",
    "    n_estimators = 350, random_state = 1,\n",
    "    n_jobs = -1, oob_score = True\n",
    ").fit(X, y)"
   ]
  },
  {
   "cell_type": "code",
   "execution_count": 108,
   "id": "1118d08b",
   "metadata": {},
   "outputs": [
    {
     "name": "stdout",
     "output_type": "stream",
     "text": [
      "Accuracy =  94.624029660526\n",
      "Precision =  99.67128200019923\n",
      "FNR =  11.957765068191817\n",
      "FPR =  0.22714757709251102\n",
      "TPR or Recall =  88.04223493180818\n",
      "Confusion matrix = \n",
      "           Predicted 0  Predicted 1\n",
      "Actual 0      14495.0         33.0\n",
      "Actual 1       1359.0      10006.0\n",
      " \n"
     ]
    }
   ],
   "source": [
    "print(confusion_matrix_data(Xtest,ytest,model_updated,cutoff=0.9))"
   ]
  },
  {
   "cell_type": "markdown",
   "id": "1d660ded",
   "metadata": {},
   "source": [
    "### Accuracy on Test: 94.62%\n",
    "### Precision on Test: 99.67%"
   ]
  },
  {
   "cell_type": "markdown",
   "id": "416b540c",
   "metadata": {},
   "source": [
    "### Random Forest"
   ]
  },
  {
   "cell_type": "code",
   "execution_count": 75,
   "id": "9d894d6d",
   "metadata": {},
   "outputs": [],
   "source": [
    "#Finding model accuracy vs number of trees\n",
    "oob_accuracy={};test_accuracy={};oob_precision={}; test_precision = {}\n",
    "\n",
    "for i in np.linspace(50,500,45,dtype=int):\n",
    "    model = RandomForestClassifier(n_estimators=i,\n",
    "                                   random_state=1,max_features=\"sqrt\",n_jobs=-1,oob_score=True).fit(X, y)\n",
    "    oob_accuracy[i]=model.oob_score_ #Returns the out-of_bag R-squared of the model\n",
    "    test_accuracy[i]=model.score(Xtest,ytest) #Returns the test R-squared of the model\n",
    "    oob_pred = model.oob_decision_function_[:,1]\n",
    "    bins=np.array([0,0.5,1])\n",
    "    cm = np.histogram2d(y, oob_pred, bins=bins)[0]\n",
    "    oob_precision[i] = 100*(cm[1,1])/(cm[0,1]+cm[1,1])\n",
    "    test_pred = model.predict_proba(Xtest)[:,1]\n",
    "    cm = np.histogram2d(ytest, test_pred, bins=bins)[0]\n",
    "    test_precision[i] = 100*(cm[1,1])/(cm[0,1]+cm[1,1])"
   ]
  },
  {
   "cell_type": "code",
   "execution_count": 76,
   "id": "fddc4c77",
   "metadata": {},
   "outputs": [
    {
     "data": {
      "text/plain": [
       "<matplotlib.legend.Legend at 0x7fe2afe95430>"
      ]
     },
     "execution_count": 76,
     "metadata": {},
     "output_type": "execute_result"
    },
    {
     "data": {
      "image/png": "[encoded data removed]",
      "text/plain": [
       "<Figure size 640x480 with 1 Axes>"
      ]
     },
     "metadata": {
      "needs_background": "light"
     },
     "output_type": "display_data"
    }
   ],
   "source": [
    "#Precision vs number of trees\n",
    "plt.rcParams.update({'font.size': 15})\n",
    "plt.figure(figsize=(8, 6), dpi=80)\n",
    "plt.plot(oob_precision.keys(),oob_precision.values(),label = 'Out of bag precision')\n",
    "plt.plot(oob_precision.keys(),oob_precision.values(),'o',color = 'blue')\n",
    "plt.plot(test_precision.keys(),test_precision.values(), label = 'Test data precision')\n",
    "plt.xlabel('Number of trees')\n",
    "plt.ylabel('Precision')\n",
    "plt.legend()"
   ]
  },
  {
   "cell_type": "code",
   "execution_count": 89,
   "id": "b37208f6",
   "metadata": {},
   "outputs": [
    {
     "data": {
      "text/plain": [
       "78"
      ]
     },
     "execution_count": 89,
     "metadata": {},
     "output_type": "execute_result"
    }
   ],
   "source": [
    "params = {'n_estimators': [400, 450, 500],\n",
    "          'max_features': range(2,28)\n",
    "         }\n",
    "\n",
    "param_list=list(it.product(*(params[Name] for Name in list(params.keys()))))\n",
    "precision = [0]*len(param_list)\n",
    "\n",
    "len(precision)"
   ]
  },
  {
   "cell_type": "code",
   "execution_count": 90,
   "id": "0e64fcd8",
   "metadata": {},
   "outputs": [
    {
     "name": "stdout",
     "output_type": "stream",
     "text": [
      "0\n",
      "1\n",
      "2\n",
      "3\n",
      "4\n",
      "5\n",
      "6\n",
      "7\n",
      "8\n",
      "9\n",
      "10\n",
      "11\n",
      "12\n",
      "13\n",
      "14\n",
      "15\n",
      "16\n",
      "17\n",
      "18\n",
      "19\n",
      "20\n",
      "21\n",
      "22\n",
      "23\n",
      "24\n",
      "25\n",
      "26\n",
      "27\n",
      "28\n",
      "29\n",
      "30\n",
      "31\n",
      "32\n",
      "33\n",
      "34\n",
      "35\n",
      "36\n",
      "37\n",
      "38\n",
      "39\n",
      "40\n",
      "41\n",
      "42\n",
      "43\n",
      "44\n",
      "45\n",
      "46\n",
      "47\n",
      "48\n",
      "49\n",
      "50\n",
      "51\n",
      "52\n",
      "53\n",
      "54\n",
      "55\n",
      "56\n",
      "57\n",
      "58\n",
      "59\n",
      "60\n",
      "61\n",
      "62\n",
      "63\n",
      "64\n",
      "65\n",
      "66\n",
      "67\n",
      "68\n",
      "69\n",
      "70\n",
      "71\n",
      "72\n",
      "73\n",
      "74\n",
      "75\n",
      "76\n",
      "77\n",
      "max recall =  97.47164515609543\n",
      "params=  (450, 13)\n"
     ]
    }
   ],
   "source": [
    "i=0\n",
    "\n",
    "for pr in param_list:\n",
    "    print(i)\n",
    "    model = RandomForestClassifier(random_state=1,\n",
    "                                   oob_score=True,\n",
    "                                   verbose=False,\n",
    "                                   n_estimators= pr[0],\n",
    "                                   max_features=pr[1], n_jobs=-1).fit(X,y)\n",
    "    oob_pred = model.oob_decision_function_[:,1]\n",
    "    bins=np.array([0,0.5,1])\n",
    "    cm = np.histogram2d(y, oob_pred, bins=bins)[0]\n",
    "    precision[i] = 100*(cm[1,1])/(cm[0,1]+cm[1,1])\n",
    "    i=i+1\n",
    "\n",
    "print(\"max precision = \", np.max(precision))\n",
    "print(\"params= \", param_list[np.argmax(precision)])"
   ]
  },
  {
   "cell_type": "code",
   "execution_count": 91,
   "id": "b7db00ae",
   "metadata": {},
   "outputs": [],
   "source": [
    "model = RandomForestClassifier(random_state=1,n_jobs=-1,max_features=13,n_estimators=450).fit(X, y)"
   ]
  },
  {
   "cell_type": "code",
   "execution_count": 96,
   "id": "784ce34f",
   "metadata": {},
   "outputs": [
    {
     "data": {
      "image/png": "[encoded data removed]",
      "text/plain": [
       "<Figure size 576x576 with 1 Axes>"
      ]
     },
     "metadata": {
      "needs_background": "light"
     },
     "output_type": "display_data"
    }
   ],
   "source": [
    "ypred = model.predict_proba(Xtest)[:, 1]\n",
    "p, r, thresholds = precision_recall_curve(ytest, ypred)\n",
    "plot_precision_recall_vs_threshold(p, r, thresholds)"
   ]
  },
  {
   "cell_type": "code",
   "execution_count": 97,
   "id": "101a5a03",
   "metadata": {},
   "outputs": [
    {
     "name": "stdout",
     "output_type": "stream",
     "text": [
      "Accuracy =  96.20634399675657\n",
      "Precision =  100.0\n",
      "FNR =  8.753368821970287\n",
      "FPR =  0.0\n",
      "TPR or Recall =  91.24663117802972\n",
      "Confusion matrix = \n",
      "           Predicted 0  Predicted 1\n",
      "Actual 0      58697.0          0.0\n",
      "Actual 1       3930.0      40967.0\n",
      " \n",
      "Accuracy =  94.35754837214691\n",
      "Precision =  99.89923417976622\n",
      "FNR =  12.767267927848659\n",
      "FPR =  0.06883259911894272\n",
      "TPR or Recall =  87.23273207215134\n",
      "Confusion matrix = \n",
      "           Predicted 0  Predicted 1\n",
      "Actual 0      14518.0         10.0\n",
      "Actual 1       1451.0       9914.0\n",
      " \n"
     ]
    }
   ],
   "source": [
    "print(confusion_matrix_data(X,y,model,cutoff=0.9))\n",
    "print(confusion_matrix_data(Xtest,ytest,model,cutoff=0.9))"
   ]
  },
  {
   "cell_type": "markdown",
   "id": "8fa9d5e3",
   "metadata": {},
   "source": [
    "### Accuracy on Test: 94.36%\n",
    "### Precision on Test: 99.89%"
   ]
  },
  {
   "cell_type": "markdown",
   "id": "9bf011e3",
   "metadata": {},
   "source": [
    "## Summary of (Base) Model Performances:\n",
    "\n",
    "NOTE: **Bold** indicates the best 2 models for a given metric.\n",
    "\n",
    "* Forward Selection [0.9 cutoff]: \n",
    "  * Accuracy (on Test): 78.07%\n",
    "  * Precision (on Test): 98.97% \n",
    "* Logistic Regression [0.7 cutoff]:\n",
    "  * Accuracy: 86.27%\n",
    "  * Precision: 93.86%\n",
    "* Basic Decision Tree [0.9 cutoff]:\n",
    "  * **Accuracy: 95.60%**\n",
    "  * Precision: 96.48%\n",
    "* Bagged Decision Tree [0.9 cutoff]:\n",
    "  * **Accuracy: 94.62%**\n",
    "  * **Precision: 99.67%**\n",
    "* Random Forest [0.9 cutoff]:\n",
    "  * Accuracy: 94.36%\n",
    "  * **Precision: 99.89%**"
   ]
  }
 ],
 "metadata": {
  "kernelspec": {
   "display_name": "Python 3",
   "language": "python",
   "name": "python3"
  }
 },
 "nbformat": 4,
 "nbformat_minor": 5
}
